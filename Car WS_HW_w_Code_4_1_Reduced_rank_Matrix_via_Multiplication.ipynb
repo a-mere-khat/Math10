{
  "nbformat": 4,
  "nbformat_minor": 0,
  "metadata": {
    "colab": {
      "provenance": [],
      "include_colab_link": true
    },
    "kernelspec": {
      "name": "python3",
      "display_name": "Python 3"
    }
  },
  "cells": [
    {
      "cell_type": "markdown",
      "metadata": {
        "id": "view-in-github",
        "colab_type": "text"
      },
      "source": [
        "<a href=\"https://colab.research.google.com/github/a-mere-khat/Math10/blob/master/Car%20WS_HW_w_Code_4_1_Reduced_rank_Matrix_via_Multiplication.ipynb\" target=\"_parent\"><img src=\"https://colab.research.google.com/assets/colab-badge.svg\" alt=\"Open In Colab\"/></a>"
      ]
    },
    {
      "cell_type": "markdown",
      "source": [
        "![purple-divider](https://user-images.githubusercontent.com/7065401/52071927-c1cd7100-2562-11e9-908a-dde91ba14e59.png)\n",
        "\n",
        "# **$$ ⛳ \\textbf{ Create a Reduced-rank Matrix via Multiplication }⛳ $$**"
      ],
      "metadata": {
        "id": "ha6K8qTjtRxn"
      }
    },
    {
      "cell_type": "markdown",
      "source": [
        "![green-divider](https://user-images.githubusercontent.com/7065401/52071924-c003ad80-2562-11e9-8297-1c6595f8a7ff.png)\n",
        "## **Why?**\n",
        "\n",
        "\n",
        "In the previous lesson, we have learned how to create a reduced rank matrices by repeating one of the columns or repeating one of the rows.\n",
        "\n",
        "But this method doesn't give much flexibility.\n",
        "\n",
        "We are going to develop a better method to create a matrix of any size $m$ by $n$, that has almost any rank that we want within the constraints that you learned about in that previous lessons and the upper boundaries of the maximum possible rank for multiplied matrices.\n"
      ],
      "metadata": {
        "id": "3qqcU4z9gGeB"
      }
    },
    {
      "cell_type": "markdown",
      "source": [
        "![green-divider](https://user-images.githubusercontent.com/7065401/52071924-c003ad80-2562-11e9-8297-1c6595f8a7ff.png)\n",
        "## **Objective:**"
      ],
      "metadata": {
        "id": "I9CE5XX_VPb_"
      }
    },
    {
      "cell_type": "markdown",
      "source": [
        "####  To generate a procedure for creating a reduced rank matrix of size $m$ by $n$ with rank $r$using matrix multiplication."
      ],
      "metadata": {
        "id": "smTDm7aQ8Fwh"
      }
    },
    {
      "cell_type": "markdown",
      "source": [
        "![green-divider](https://user-images.githubusercontent.com/7065401/52071924-c003ad80-2562-11e9-8297-1c6595f8a7ff.png)\n",
        "## 🔖 **TODOs**\n"
      ],
      "metadata": {
        "id": "IKMzqea07ufX"
      }
    },
    {
      "cell_type": "markdown",
      "source": [
        "---\n",
        "### **$\\color{brown}{\\textbf{TODO 1}}$: Write your hypotheses for the Rules and Constrains on rank of a matrix with Latex mathematics in the following situations.**\n",
        "\n",
        "##### 🎨  $\\color{orange}{\\textbf{Reminder: Make sure that you discuss all possibilities of values of dimensions of each matrices, }}\\mathbf{A}, \\mathbf{B}$, and $\\mathbf{C}$.\n",
        "\n"
      ],
      "metadata": {
        "id": "fVPtMgktNzsd"
      }
    },
    {
      "cell_type": "markdown",
      "source": [
        "#### **Statement 1:** State your hypothesis about the upper boundary of the rank of a matrix $\\mathbf{A}$ of dimention $m\\times n$.\n"
      ],
      "metadata": {
        "id": "7OSi03lJ-_Qs"
      }
    },
    {
      "cell_type": "markdown",
      "source": [
        "#### **Statement 2:** State your hypothesis about the upper boundary of the rank of the product matrix $\\mathbf{C}$ of multiplication of matrix $\\mathbf{A}$ and $\\mathbf{B}$, that is \n",
        "$$\\mathbf{C} = \\mathbf{A}\\mathbf{B} $$\n",
        "where the dimension of $\\mathbf{A}$ is $m\\times r$ and the dimension of $\\mathbf{B}$ is $r\\times n$.\n"
      ],
      "metadata": {
        "id": "2lxxPtBv-_2e"
      }
    },
    {
      "cell_type": "markdown",
      "source": [
        "\n",
        "#### **Statement 3:** State your hypothesis about the general assumption of the largest possible rank for a random matrix $\\mathbf{A}$ of dimension $m \\times n$ \n"
      ],
      "metadata": {
        "id": "s-MNI6mV_AK6"
      }
    },
    {
      "cell_type": "markdown",
      "source": [
        "---\n",
        "### **$\\color{brown}{\\textbf{TODO 2}}$: Create a $10\\times 10$ (or your choice but not too small) matrix of rank $4$ using matrix multiplication method**\n",
        "**Step 1.** Create a matrix of dimension $10\\times 4$ of rank 4.\\\n",
        "**Step 2.** Create a matrix of dimension $4\\times 10$ of rank 4.\\\n",
        "**Step 3.** Create a matrix of dimension $10\\times 10$ of rank 4 by multiplication of matrices from Step 1 and Step 2.\n",
        "\n",
        "##### 🎨  $\\color{green}{\\textbf{Tip: Make sure that verify ranks of matrices you used.}}$.\n",
        "\n",
        "\n"
      ],
      "metadata": {
        "id": "le-DzREwuscw"
      }
    },
    {
      "cell_type": "markdown",
      "source": [
        "---\n",
        "### **$\\color{brown}{\\textbf{TODO 3}}$: Abstract the process to a general matrices $\\color{brown}{\\textbf{TODO 2}}$ with an interactive forms for user inputs**\n",
        "\n",
        "* Your code should create a matrix $m \\times n$ of rank $r$\n",
        "* Your code should take the inputs from the users $m, n,$, and $r$ via interactive form fields.\n",
        "* Your code should validate matrix multiplications and the possibility of rank $r$ with given $m$ and $n$.  If not possible, print out a request asking user to modify the input values until the requested rank $r$ is validated. \n",
        "* Your code should output the requested matrixl, its dimensiuons, and rank with clear identifications, that is, not printouts of a sequence of numbers."
      ],
      "metadata": {
        "id": "p1BUfaCFwr7H"
      }
    },
    {
      "cell_type": "markdown",
      "source": [
        "---\n",
        "### **$\\color{brown}{\\textbf{TODO 4}}$: Write a conclusion about each of your hypotheses from your experiements with code.**\n"
      ],
      "metadata": {
        "id": "hqKOQSprACei"
      }
    }
  ]
}