{
  "nbformat": 4,
  "nbformat_minor": 0,
  "metadata": {
    "colab": {
      "provenance": [],
      "include_colab_link": true
    },
    "kernelspec": {
      "name": "python3",
      "display_name": "Python 3"
    },
    "language_info": {
      "name": "python"
    }
  },
  "cells": [
    {
      "cell_type": "markdown",
      "metadata": {
        "id": "view-in-github",
        "colab_type": "text"
      },
      "source": [
        "<a href=\"https://colab.research.google.com/github/a-mere-khat/Math10/blob/master/Car%20WS_Lec_Matrix_2_4_Matrix_scalar_multiplication.ipynb\" target=\"_parent\"><img src=\"https://colab.research.google.com/assets/colab-badge.svg\" alt=\"Open In Colab\"/></a>"
      ]
    },
    {
      "cell_type": "markdown",
      "source": [
        "![purple-divider](https://user-images.githubusercontent.com/7065401/52071927-c1cd7100-2562-11e9-908a-dde91ba14e59.png)\n",
        "# **$$ ⛳ \\textbf{ Matrix-scalar multiplication }⛳ $$**\n",
        "\n",
        "\n"
      ],
      "metadata": {
        "id": "RNFxe_SigFfh"
      }
    },
    {
      "cell_type": "markdown",
      "source": [
        "![green-divider](https://user-images.githubusercontent.com/7065401/52071924-c003ad80-2562-11e9-8297-1c6595f8a7ff.png)\n",
        "## **Objectives** \n",
        "\n",
        "<span style=\"font-family:Papyrus; color:red; font-size:4em;\">By the end of this lesson, you will:</span>\n",
        "\n",
        "\n",
        "#### - $\\color{teal}{\\text{Know how to multiply a matrix by a scalar}}$"
      ],
      "metadata": {
        "id": "jSIXQHdAMrgn"
      }
    },
    {
      "cell_type": "markdown",
      "source": [
        "![green-divider](https://user-images.githubusercontent.com/7065401/52071924-c003ad80-2562-11e9-8297-1c6595f8a7ff.png)\n",
        "## **Matrix-scalar multiplication**\n"
      ],
      "metadata": {
        "id": "nu8VhKVf5Cb-"
      }
    },
    {
      "cell_type": "markdown",
      "source": [
        "$$\\Large \n",
        "\\color{blue}{\\delta}\n",
        "\\begin{bmatrix}\n",
        "\\color{orange}{\\text{a}} & \\color{orange}{\\text{b}} \\\\\n",
        "\\color{orange}{\\text{c}} & \\color{orange}{\\text{d}}\n",
        "\\end{bmatrix}\n",
        "\\, = \\,\n",
        "\\begin{bmatrix}\n",
        "\\color{blue}{\\delta}\\color{orange}{\\text{a}} & \\color{blue}{\\delta}\\color{orange}{\\text{b}} \\\\\n",
        "\\color{blue}{\\delta}\\color{orange}{\\text{c}} & \\color{blue}{\\delta}\\color{orange}{\\text{d}}\n",
        "\\end{bmatrix}\n",
        "\\, =\\,\n",
        "\\begin{bmatrix}\n",
        "\\color{orange}{\\text{a}}\\color{blue}{\\delta} & \\color{orange}{\\text{b}}\\color{blue}{\\delta} \\\\\n",
        "\\color{orange}{\\text{c}}\\color{blue}{\\delta} & \\color{orange}{\\text{d}}\\color{blue}{\\delta}\n",
        "\\end{bmatrix}\n",
        "\\, =\\,\n",
        "\\begin{bmatrix}\n",
        "\\color{orange}{\\text{a}} & \\color{orange}{\\text{b}} \\\\\n",
        "\\color{orange}{\\text{c}} & \\color{orange}{\\text{d}}\n",
        "\\end{bmatrix}\\color{blue}{\\delta}\n",
        " $$"
      ],
      "metadata": {
        "id": "QmCxsUqaz85x"
      }
    },
    {
      "cell_type": "markdown",
      "source": [
        "<details>\n",
        "  <summary><b>Explanation</b></summary>\n",
        "  \n",
        "* You just multiply each element of the matrix by the scalar And that's really it.\n",
        "\n",
        "* The main thing to know about matrix scalar multiplication is that it's a symmetric or commutative operation.\n",
        "\n",
        "That means you can multiply the matrix by the scalar on the **left (pre)**. And that's the same thing as multiplying the scalar or the matrix by the scalar on the **right (post)**.\n",
        "\n",
        "* And the reason why that's valid is that each individual operation of matrix scalar multiplication is just a simple element.  Or you can say that scalar matrix multiplication works element wise and four element wise or normal kind of standard.\n",
        "</details>"
      ],
      "metadata": {
        "id": "YLw-5IrrzW0e"
      }
    },
    {
      "cell_type": "markdown",
      "source": [
        "----\n",
        "#### **Commutative property**\n",
        "\n",
        "$$\\Large \n",
        "\\color{blue}{\\delta}\\color{orange}{\\mathbf{M}}\\color{green}{\\mathbf{A}}\n",
        "\\, =\\,\n",
        "\\color{orange}{\\mathbf{M}}\\color{blue}{\\delta}\\color{green}{\\mathbf{A}}\n",
        "\\, = \\,\n",
        "\\color{orange}{\\mathbf{M}}\\color{green}{\\mathbf{A}}\\color{blue}{\\delta}\n",
        "$$"
      ],
      "metadata": {
        "id": "UtSbdPrDHbv8"
      }
    },
    {
      "cell_type": "markdown",
      "source": [
        "<details>\n",
        "  <summary><b>Explanation</b></summary>\n",
        "\n",
        "And so Delta Times A is the same thing as eight times Delta.\n",
        "\n",
        "* This property comes in handy in proofs and you will see in several proofs throughout this course that the fact that this equals this is actually critical to proving some more advanced topic in our concept in linear algebra.\n",
        "\n",
        "So this fact also means that when you're multiplying multiple matrices and a scalar, you can move the scalar **anywhere you want.**\n",
        "\n",
        "So Delta Times Matrix M times Matrix A is the same thing as putting the scalar in the middle, which is the same thing as putting the scalar on the right.\n",
        "</details>"
      ],
      "metadata": {
        "id": "T8IVwYHtIpLh"
      }
    },
    {
      "cell_type": "markdown",
      "source": [
        "![green-divider](https://user-images.githubusercontent.com/7065401/52071924-c003ad80-2562-11e9-8297-1c6595f8a7ff.png)\n",
        "## **🔖 $\\color{blue}{\\textbf{ Practice: }}$ Matrix-scalar multiplication with Python**"
      ],
      "metadata": {
        "id": "YRrXsa4NJAlt"
      }
    },
    {
      "cell_type": "markdown",
      "source": [
        "#### **Create random matrices**"
      ],
      "metadata": {
        "id": "z6kjrC6NJAlt"
      }
    },
    {
      "cell_type": "markdown",
      "source": [
        "#### **Test pre- vs post-scarlar multiplication of matrix**\n",
        "\n",
        "\n"
      ],
      "metadata": {
        "id": "paXFa-v6JAl0"
      }
    }
  ]
}