{
  "nbformat": 4,
  "nbformat_minor": 0,
  "metadata": {
    "colab": {
      "provenance": [],
      "include_colab_link": true
    },
    "kernelspec": {
      "name": "python3",
      "display_name": "Python 3"
    }
  },
  "cells": [
    {
      "cell_type": "markdown",
      "metadata": {
        "id": "view-in-github",
        "colab_type": "text"
      },
      "source": [
        "<a href=\"https://colab.research.google.com/github/a-mere-khat/Math10/blob/master/Car%20WS_Lab1_22_Dot_Products_with_Unit_Vectors.ipynb\" target=\"_parent\"><img src=\"https://colab.research.google.com/assets/colab-badge.svg\" alt=\"Open In Colab\"/></a>"
      ]
    },
    {
      "cell_type": "markdown",
      "source": [
        "![purple-divider](https://user-images.githubusercontent.com/7065401/52071927-c1cd7100-2562-11e9-908a-dde91ba14e59.png)\n",
        "\n",
        "# **$$ ⛳ \\textbf{   Dot Products with Unit Vectors  }⛳ $$**"
      ],
      "metadata": {
        "id": "ha6K8qTjtRxn"
      }
    },
    {
      "cell_type": "markdown",
      "source": [
        "![green-divider](https://user-images.githubusercontent.com/7065401/52071924-c003ad80-2562-11e9-8297-1c6595f8a7ff.png)\n",
        "## **Objective:**"
      ],
      "metadata": {
        "id": "XVcXL1A9jBur"
      }
    },
    {
      "cell_type": "markdown",
      "source": [
        "#### **1.** To gain some more experience in programming, using the DOT product and normalizing vectors, so creating unit vectors along some direction\n",
        "\n",
        "#### **2.** Explore the concept of the DOT product and unit vectors in theory.\n",
        "\n",
        "\n",
        "#### ⛽ There are many resources for writing text in markdown and mathematics typesets in latex.  Here is one for matrix\n",
        "[How to write matrices in Latex ?](https://www.math-linux.com/latex-26/faq/latex-faq/article/how-to-write-matrices-in-latex-matrix-pmatrix-bmatrix-vmatrix-vmatrix)\n",
        "\n",
        "[Markdown Cheatsheet.]( https://github.com/adam-p/markdown-here/wiki/Markdown-Cheatsheet)\n",
        "\n",
        "🚥 But keep in mind that these numerical demonstrations in a couple of examples are not formal mathematical proofs, and these are not substitutes for formal mathematical proofs. These are just really great ways to help you internalize the concepts."
      ],
      "metadata": {
        "id": "smTDm7aQ8Fwh"
      }
    },
    {
      "cell_type": "markdown",
      "source": [
        "![green-divider](https://user-images.githubusercontent.com/7065401/52071924-c003ad80-2562-11e9-8297-1c6595f8a7ff.png)\n",
        "## **State Your hypothesis**\n"
      ],
      "metadata": {
        "id": "IKMzqea07ufX"
      }
    },
    {
      "cell_type": "markdown",
      "source": [
        "![green-divider](https://user-images.githubusercontent.com/7065401/52071924-c003ad80-2562-11e9-8297-1c6595f8a7ff.png)\n",
        "## **🔖  TODOs** "
      ],
      "metadata": {
        "id": "fVPtMgktNzsd"
      }
    },
    {
      "cell_type": "markdown",
      "source": [
        "---\n",
        "### **$\\color{brown}{\\textbf{TODO 1: }}$ Create code for the experiment**\n",
        "##### ✅ **$\\color{darkorange}{\\textbf{There are many different versions of solutions}}$**\n",
        "#### **1.** Generate **two random integer vectors in $R^4$.**\n",
        "#### **2.** Compute the length of each vectors and magnitude of their dot product.\n",
        "#### **3.** \"Normalize\" the two vectors to unit vector.\n",
        "#### **4.** Compute magnitude of the dot product of normalized vectors.\n",
        "#### **5.** Use print statements with identifiations in an appropriate place."
      ],
      "metadata": {
        "id": "le-DzREwuscw"
      }
    },
    {
      "cell_type": "code",
      "source": [
        "#Your code goes here"
      ],
      "metadata": {
        "id": "Xfcpi3vdXRbt"
      },
      "execution_count": null,
      "outputs": []
    },
    {
      "cell_type": "markdown",
      "source": [
        "---\n",
        "### **$\\color{brown}{\\textbf{TODO 2: }}$ Running experiment and discussion the results}}$** \n",
        "\n",
        "#### **1.** Run your experiment a few times and with different star and end integer values of v1 and v2.\n",
        "\n",
        "#### **2.** Compare the magnitude of the dot products of the two vector with the length of the vectors before and after being normalized."
      ],
      "metadata": {
        "id": "aF2HoZk7Z1Av"
      }
    },
    {
      "cell_type": "markdown",
      "source": [
        "---\n",
        "### **$\\color{brown}{\\textbf{TODO 3: }}$ Discussion**\n",
        "\n",
        " Explain the results of comparison using the geometric interpretations of dot product of two vectors in $R^2$ or $R^3$. \n",
        "\n",
        "##### ✅ **$\\color{darkorange}{\\textbf{There are many different versions of solutions}}$**"
      ],
      "metadata": {
        "id": "e0wYjnNyKNbv"
      }
    },
    {
      "cell_type": "markdown",
      "source": [
        "---\n",
        "### **Comments**\n",
        "\n",
        "#### **1.** \n",
        " It is kind of interesting to keep in mind that the magnitude of the DOT product for the original unnormalized vectors was much larger than that of either individual vector.\n",
        "\n",
        "Whereas the magnitude of the DOT product of the normalized original vectors is actually smaller than that of either individual vector.\n",
        "\n",
        "The magnitude of two normalized vectors were less than one and the magnitude of their DOT product is now smaller than one.\n",
        "\n",
        "#### **2.**\n",
        "  Now, the best way to make sense of why that's the case, that this DOT product magnitudes larger than these lengths.\n",
        "\n",
        "This one is smaller, is thinking about the DOT product formula from the geometric perspective.  So you'll remember that that was like V times, W times the cosine of the angle between the two vectors.\n",
        "\n",
        "So in this first case, we have that these two lengths, the lengths of these two vectors ere both larger than one, so then you multiply them together and you're going to get, you know, whatever the number happens to be.\n",
        "\n",
        "But it's some large number four in these cases.\n",
        "\n",
        "These are both unit vectors.  So the length of these are one, which means just one times one.  So you can basically just ignore those two terms and you're left with the cosine of the angle between them.\n",
        "\n",
        "And of course, the cosine of an angle is bound between minus one and plus one.\n",
        "\n",
        "#### **3.** \n",
        "  Now, this concept of computing, the DOT product between two unit vectors, this is related to an analysis that is often used in machine learning and in statistics and machine learning.\n",
        "\n",
        "It's called cosine similarity in statistics or Peerson correlation coefficient.\n",
        "\n",
        "Now, this term here is not exactly cosine. Similarity is not exactly the Peerson correlation coefficient, but that's only because the correlation coefficient involves another normalization in the denominator. But that's okay.\n",
        "\n",
        "I do want you to appreciate the concept, the point that the DOT product between two normalized vectors is an important quantity tells you about the relationship of those two vectors to each other. And it's a concept or quantity that is used in statistics and in machine learning."
      ],
      "metadata": {
        "id": "tTU66usauMiO"
      }
    }
  ]
}