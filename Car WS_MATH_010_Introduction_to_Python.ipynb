{
  "nbformat": 4,
  "nbformat_minor": 0,
  "metadata": {
    "colab": {
      "provenance": [],
      "include_colab_link": true
    },
    "kernelspec": {
      "name": "python3",
      "display_name": "Python 3"
    }
  },
  "cells": [
    {
      "cell_type": "markdown",
      "metadata": {
        "id": "view-in-github",
        "colab_type": "text"
      },
      "source": [
        "<a href=\"https://colab.research.google.com/github/a-mere-khat/Math10/blob/master/Car%20WS_MATH_010_Introduction_to_Python.ipynb\" target=\"_parent\"><img src=\"https://colab.research.google.com/assets/colab-badge.svg\" alt=\"Open In Colab\"/></a>"
      ]
    },
    {
      "cell_type": "markdown",
      "source": [
        "![purple-divider](https://user-images.githubusercontent.com/7065401/52071927-c1cd7100-2562-11e9-908a-dde91ba14e59.png)\n",
        "\n",
        "# **$$🔶 \\textbf{   Jupyter Notebook Review   }🔶$$**"
      ],
      "metadata": {
        "id": "i-6TEOkxg6W2"
      }
    },
    {
      "cell_type": "markdown",
      "source": [
        "![green-divider](https://user-images.githubusercontent.com/7065401/52071924-c003ad80-2562-11e9-8297-1c6595f8a7ff.png)\n",
        "## **EXECUSION**\n",
        "## $\\hspace{70mm}$Hit `SHIFT+ENTER` to execute the contents of a cell\n",
        "\n"
      ],
      "metadata": {
        "id": "eijN_JuPg6W3"
      }
    },
    {
      "cell_type": "markdown",
      "source": [
        "![green-divider](https://user-images.githubusercontent.com/7065401/52071924-c003ad80-2562-11e9-8297-1c6595f8a7ff.png)\n",
        "## **UNDO** \n",
        "\n",
        "### **😒 To undo delete a cell or an inserted cell:** Go to Edit in the menu bar\n",
        "### **😒 To undo code or mark down text:** use `command + z` or `control + z` in the same cell where the code and text deleted.\n"
      ],
      "metadata": {
        "id": "FDpIkHzCVmVE"
      }
    },
    {
      "cell_type": "markdown",
      "source": [
        "![green-divider](https://user-images.githubusercontent.com/7065401/52071924-c003ad80-2562-11e9-8297-1c6595f8a7ff.png)\n",
        "## **SAVE**\n",
        "\n",
        "### **Auto Save:** Google Colab save Jupyter Notebook automatically by default.\n",
        "### **Manual Save:** Go to File in the menu bar\n",
        "\n",
        "### **❗⚠❗ Not Saved:** If you have the **same Jupyter Notebook** open on two **separate computers** or as tabs, there will be occasions when the code does not save, so it is important to ensure that the code is saved in each location, and checked to ensure it has been updated in each location the program has been moved to."
      ],
      "metadata": {
        "id": "QlmDCekRVmVO"
      }
    },
    {
      "cell_type": "markdown",
      "source": [
        "![purple-divider](https://user-images.githubusercontent.com/7065401/52071927-c1cd7100-2562-11e9-908a-dde91ba14e59.png)\n",
        "# **$🔶 \\textbf{   Python Programming Basic   }🔶$**\n",
        "#### *Computers* are programmable machines that process information by manipulating data. As the data can represent any real world information, and programs can be readily changed, computers are capable of solving many kinds of problems."
      ],
      "metadata": {
        "id": "FYbaGjm10X-q"
      }
    },
    {
      "cell_type": "markdown",
      "source": [
        "<a style=\"\" target=\"_blank\" href=\"https://pythontutor.com/visualize.html#code=&cumulative=false&heapPrimitives=false&mode=edit&origin=opt-frontend.js&py=3&rawInputLstJSON=%5B%5D&textReferences=false\">Edit in PythonTutor</a>"
      ],
      "metadata": {
        "id": "RiEZ8N8s3pU3"
      }
    },
    {
      "cell_type": "markdown",
      "source": [
        "![green-divider](https://user-images.githubusercontent.com/7065401/52071924-c003ad80-2562-11e9-8297-1c6595f8a7ff.png)\n",
        "## **Comments**\n",
        "#### Program files can contain source code and comments. Comments are not instructions for the computer to follow, but instead notes for programmers to read. Comments in Python start with a pound sign (#). Anything following the pound sign that is on the same line as the pound sign will not be executed. Often, at the very beginning of a program, comments are used to indicate the author and other information. Comments are also used to explain tricky sections of code or disable code from executing.\n",
        "* Comments can be used to explain Python code.\n",
        "* Comments can be used to make the code more readable.\n",
        "* Comments can be used to prevent execution when testing code."
      ],
      "metadata": {
        "id": "PRAHtlI68RGB"
      }
    },
    {
      "cell_type": "markdown",
      "source": [
        "---\n",
        "### **Single line comment:** \n"
      ],
      "metadata": {
        "id": "CjFf3FR9c_Jv"
      }
    },
    {
      "cell_type": "markdown",
      "source": [
        "### 🔖 **$\\color{blue}{\\textbf{Practice: }}$ Practice using comments**"
      ],
      "metadata": {
        "id": "K2HgI4Mbe92s"
      }
    },
    {
      "cell_type": "markdown",
      "source": [
        "#### **Comment in a separate line:** Text starting a line with `#` are ignored by Python"
      ],
      "metadata": {
        "id": "Ew79EYZ5eBAt"
      }
    },
    {
      "cell_type": "markdown",
      "source": [
        "#### **Commendts after Python code:** Comments can be placed at the end of a line, and Python will ignore the rest of the line:"
      ],
      "metadata": {
        "id": "HwgdPtcqdyB9"
      }
    },
    {
      "cell_type": "markdown",
      "source": [
        "#### **Commenting out of Python code:** A comment does not have to be text that explains the code, it can also be used to prevent Python from executing code:"
      ],
      "metadata": {
        "id": "8qNFeu-0eeR2"
      }
    },
    {
      "cell_type": "markdown",
      "source": [
        "---\n",
        "### **Multiple lines (block) comments:**"
      ],
      "metadata": {
        "id": "TkdzENeYdGib"
      }
    },
    {
      "cell_type": "markdown",
      "source": [
        "#### 🔖 **$\\color{blue}{\\textbf{Practice: }}$ Practice using multiple-line comments**"
      ],
      "metadata": {
        "id": "VSgp-S19f3Q4"
      }
    },
    {
      "cell_type": "markdown",
      "source": [
        "#### Python does not really have a syntax for multi line comments.\n",
        "\n",
        "#### To add a multiline comment you could insert a `#` for each line:"
      ],
      "metadata": {
        "id": "K9iLg2CpfP_P"
      }
    },
    {
      "cell_type": "code",
      "source": [
        "#This is a comment\n",
        "#written in\n",
        "#more than just one line\n",
        "print(\"Hello, World!\")"
      ],
      "metadata": {
        "id": "TcOpSXaXfm0T"
      },
      "execution_count": null,
      "outputs": []
    },
    {
      "cell_type": "markdown",
      "source": [
        "#### Or, not quite as intended, you can use a multiline string.  Since Python will ignore string literals that are not assigned to a variable, you can add a multiline string (triple quotes) in your code, and place your comment inside it:"
      ],
      "metadata": {
        "id": "6zqUY1lCfeQn"
      }
    },
    {
      "cell_type": "markdown",
      "source": [
        "![purple-divider](https://user-images.githubusercontent.com/7065401/52071927-c1cd7100-2562-11e9-908a-dde91ba14e59.png)\n",
        "# **$🔶 \\textbf{   Variables   }🔶$**\n",
        "\n",
        "*Variables* are (virtual) boxes that store values for reuse later. ariables in a programming language mean more than simple representation of a numerial values like those in math, even though they're called the same thing.  \n",
        "\n",
        "A variable has a name and a current value. Each variable can only hold one value at a time. Variables are assigned a value using the single equal sign (=). As Python executes one line at a time, variables come into existence on the line where they are first assigned. **Each variable only stores the most recent value assigned to it.**\n",
        "\n",
        "Variables in computer science contain $\\color{red}{\\textbf{information}}$. Because of this, some people call the computer sceince versions containers.\n",
        "\n",
        "$$ \\text{variable containers} = values + names$$"
      ],
      "metadata": {
        "id": "beN_UhpG2mVo"
      }
    },
    {
      "cell_type": "markdown",
      "source": [
        "###**Restrictions to the variable names:**\n",
        "\n",
        "1.  **Must Begin with a letter:** ariable container names must start with a letter.\n",
        "If you try to start the name with a symbol or a number, Python will give you a ParseError, which is its way of saying it doesn't understand what you're trying to do.\n",
        "\n",
        "2.  **Must containly alphanumeric:** Variable container names can only contain letters and numbers – no symbols, spaces, or other things that aren't (A-z, 0-9) allowed.\n",
        "\n",
        "3.  **Must not be the researved *keywords:*** The researved words are blue once you type them in a code cell. Below are commonly used keywords in this course: **and, or, not, def, if, elif, else, for, from, import, in is, with, false, True, None**  "
      ],
      "metadata": {
        "id": "xqKgi9q6wAc-"
      }
    },
    {
      "cell_type": "markdown",
      "source": [
        "###🧚 **$\\color{orange}{\\textbf{Tip on choosing variable names:}}$**\n",
        "\n",
        "\n",
        "<details>\n",
        "  <summary><b>Show details</b> </summary>\n",
        "\n",
        "* Be meaningful\n",
        "* variable are case sensitive, which means that the name var is different from Var, vAr, and VAR. \n",
        "*  Each variable container's name must be unique; that is, no other variable can have its name.\n",
        "\n",
        "  Python doesn't yell, or throw an error, if you re-use a variable name – it just re-writes the old value with a new one, which can be pretty confusing if you don't expect it.\n",
        "\n",
        "  Take a look at the code in the console below for an example. It creates two variable containers, name and question. The name variable container ends up holding the string \n",
        "\n",
        "  `\"string\"` Enclose a string between \" and \"\n",
        "* use underscore \"_\" to connect multi-word names:**\n",
        "\n",
        "  It's common, but not required, to use snake case – all lower-case letters, with underscores _ instead of spaces – if your variable container name is longer than one word.\n",
        "</details>"
      ],
      "metadata": {
        "id": "F0Dk30m21jjo"
      }
    },
    {
      "cell_type": "markdown",
      "source": [
        "### **🔖 $\\color{blue}{\\textbf{Practice:}}$ *Basic Variable and Data Types***"
      ],
      "metadata": {
        "id": "zzTqYu7nXOOz"
      }
    },
    {
      "cell_type": "markdown",
      "source": [
        "![purple-divider](https://user-images.githubusercontent.com/7065401/52071927-c1cd7100-2562-11e9-908a-dde91ba14e59.png)\n",
        "# **$🔶 \\textbf{   Data Types   }🔶$**\n",
        "####Programming is all about information processing. Information is categorized by data types. Four basic data types we will be considering are int , float , bool , and str . Int consists of integers , which are whole numbers written without a decimal point. This includes positive and negative whole numbers as well as zero. Float consists of floating-point numbers , which are numbers that are written with a decimal point. Bool consists of Boolean values (named after the mathematician George Boole). The only Boolean values are True and False. Str consists of strings , which are sequences of text characters including punctuation, symbols, and whitespace. Every value in Python has a corresponding data type. The table below shows examples of ints, floats, and strings."
      ],
      "metadata": {
        "id": "6-doXFyV9o7p"
      }
    },
    {
      "cell_type": "markdown",
      "source": [
        "\n",
        "#### ***Table 1. Basic Data Type***\n",
        "\n",
        "|Data Type| Example Values|\n",
        "|:--:|:--:|\n",
        "|`int`|$2, -2, 0, 834529$|\n",
        "|`float`|$3.13, -2.3333, 7.0$|\n",
        "|`boolean`|`True`, `False`|\n",
        "|`str`| \"Hello World!\". \"coconut', \"0\", '4+6'\n",
        "\n",
        "#### $\\color{orange}{\\textbf{String and Quotation Marks}}$\n",
        "> Strings are always surrounded by quotation marks. Python allows either single (') or double (\") quotation marks. Some strings may look like numbers, but as long as they are surrounded by quotation marks, they are treated like text."
      ],
      "metadata": {
        "id": "0_uzCGdv2lyp"
      }
    },
    {
      "cell_type": "markdown",
      "source": [
        "<details>\n",
        "  <summary><b>Categories of Data Types in Native Python</b></summary>\n",
        "$$\n",
        "\\begin{align}\n",
        "&\\text{Text Type: }\\color{red}{ str} \\\\\n",
        "&\\text{Numeric Types: }\t \\color{red}{ int, float, complex}\\\\\n",
        "&\\text{Sequence Types: }\t  \\color{red}{ list, tuple, range}\\\\\n",
        "&\\text{Map Types: }\t  \\color{red}{ dict}\\\\\n",
        "&\\text{Set Types:\t} \\color{red}{set}\\\\\n",
        "&\\text{Boolean Type: }\t \\color{red}{bool}\\\\\n",
        "&\\text{Binary Types:} \\color{red}{bytes, bytearray, memoryview}\\\\\n",
        "&\\text{None Type:\t} \\color{red}{NoneType} \n",
        "\\end{align}\n",
        "$$\n",
        "\n",
        "**NOTE:**\n",
        "\n",
        "**1.** $\\color{red}{ list, tuple}$, and $\\color{red}{ dict}$ are also called collection data type for storing information.\\\n",
        "**2.** $\\color{red}{ list, tuple, range}$, and $\\color{red}{string }$ are also called ordered data type and $\\color{red}{ dict}$ and $\\color{red}{ set}$ are unordered data type\n",
        "</details>"
      ],
      "metadata": {
        "id": "xB_VkaKOTdVf"
      }
    },
    {
      "cell_type": "markdown",
      "source": [
        "![purple-divider](https://user-images.githubusercontent.com/7065401/52071927-c1cd7100-2562-11e9-908a-dde91ba14e59.png)\n",
        "# **$🔶 \\textbf{   String and f-string Printing   }🔶$**\n",
        "### **Text in a single line**\n",
        "To define a variable containing some constant text (*a string leteral*) in a ***single*** line, enclose the text in either ***one*** single (') or double (\") quotes.\n",
        "### **Text in multiple lines**\n",
        "To define a variable containing some constant text (*a string leteral*) in ***multiple lines***, enclose the text in either ***two*** ***triple*** single (') or double (\") quotes.\n",
        "###🧚 **$\\color{orange}{\\textbf{Tip:}}$ Leaving off the quotes entirely won't work either; you'll get a $\\color{red}{\\text{NameError}}$.**"
      ],
      "metadata": {
        "id": "U7Eo3usvQhMM"
      }
    },
    {
      "cell_type": "markdown",
      "source": [
        "---\n",
        "## **🔖 $\\color{blue}{\\textbf{Practice:}}$**"
      ],
      "metadata": {
        "id": "Q-WWp2gB5sLz"
      }
    },
    {
      "cell_type": "markdown",
      "source": [
        "##**2. Input strings**"
      ],
      "metadata": {
        "id": "_ooaalmrqsIj"
      }
    },
    {
      "cell_type": "markdown",
      "source": [
        "###**3. Strings Arithmetics** The white spaces in a string are equivalent to characters and you can do arithmetic with strings."
      ],
      "metadata": {
        "id": "RUiyOWZoq80Y"
      }
    },
    {
      "cell_type": "markdown",
      "metadata": {
        "id": "9gYowwWdfxWK"
      },
      "source": [
        "###**$\\color{green}{\\textbf{Option TO DO:}}$** Write codes to print your name, major, and today's date on three separate lines."
      ]
    },
    {
      "cell_type": "markdown",
      "source": [
        "##🔖 **$\\color{blue}{\\textbf{Practice: }}$ Format Floating-point and percent in f-string.**\n",
        "\n",
        "###```{variable: ,.nf }``` outputs variable with $n$ decimal places with comma separators\n",
        "\n",
        "###```{variable: .n%}``` outputs variable in percent with $n$ decimal places\n",
        "\n",
        "####🧚 **$\\color{orange}{\\textbf{Tip:}}$ enclose every variable with a set of $\\color{red}{\\{ \\}}$**, for example, the variable `n` for the number of decimal place in the example below."
      ],
      "metadata": {
        "id": "LALi7jI1Ri3L"
      }
    },
    {
      "cell_type": "markdown",
      "source": [
        "![purple-divider](https://user-images.githubusercontent.com/7065401/52071927-c1cd7100-2562-11e9-908a-dde91ba14e59.png)\n",
        "# **$🔶 \\textbf{   Operators  }🔶$**"
      ],
      "metadata": {
        "id": "iokYrI32_d9i"
      }
    },
    {
      "cell_type": "markdown",
      "source": [
        "<details>\n",
        "  <summary><b>Arithematic Operators:</b> </summary>\n",
        "\n",
        "**Basic Arithmetic Operations**\n",
        "\n",
        "|Symbol|Basic Arithmitic|Python function|\n",
        "|:--:|:--:|:--:|\n",
        "|$+$|  Addtion||\n",
        "|$-$|  Subtraction||\n",
        "|$*$| Multiplication||\n",
        "|/| Floating-point division||\n",
        "|//| Ineger division||\n",
        "|%| Modulus (reminder in division||\n",
        "|**| exponentiation|math.exp()|\n",
        "|** (1/2)|Square root|math.sqrt()\n",
        "\n",
        "\\\\\n",
        "\n",
        "**Python arithmetic operator precedence**\n",
        "\n",
        "|Operators|Precedence|\n",
        "|:--:|:--:|\n",
        "|**|(Highest precedence)|\n",
        "|*, /, //, %||\n",
        "|$+,-$|(Lowest precedence)|\n",
        "\n",
        "</details>"
      ],
      "metadata": {
        "id": "zBm1xrOXYuka"
      }
    },
    {
      "cell_type": "markdown",
      "source": [
        "<details>\n",
        "  <summary><b>Assignment Operators:</b> </summary>\n",
        "  Assignment operators are used to assign values to variables:\n",
        "\n",
        "|Operator|\tExample|\tSame As|\n",
        "|--|--|--|\n",
        "|=\t|x = 5|\t|x = 5|\t\n",
        "|+=\tx |+= 3\t|x = x + 3\t|\n",
        "|-=\tx |-= 3\t|x = x - 3\t|\n",
        "|*=\tx |*= 3\t|x = x * 3\t|\n",
        "|/=\tx |/= 3\t|x = x / 3\t|\n",
        "|%=\tx |%= 3\t|x = x % 3\t|\n",
        "|//=\t|x //= 3|\tx = x // 3|\t\n",
        "|**=\t|x **= 3|\tx = x ** 3|\t\n",
        "|&=\tx |&= 3\t|x = x & 3\t|\n",
        "|\\|=\tx |= 3\t|x = x | 3\t|\n",
        "|^=\tx |^= 3\t|x = x ^ 3\t|\n",
        "|>>=\t|x >>= 3\t|x = x >> 3\t|\n",
        "|<<=\t|x <<= 3\t|x = x << 3|\n",
        "</details>"
      ],
      "metadata": {
        "id": "7Vrw15K7ch0y"
      }
    },
    {
      "cell_type": "markdown",
      "source": [
        "<details>\n",
        "  <summary><b>Comparison Operators</b> </summary>\n",
        "\n",
        "Boolean expression are logic expressions with operators, similar to the mathematical expressions with arithmetic operators.  Boolearn operators and their meaning are: \n",
        "\n",
        "*   $\\color{blue}{>}$: greater than\n",
        "*   $\\color{blue}{<}$: less than\n",
        "*   $\\color{blue}{>=}$: greater than or equal to\n",
        "*   $\\color{blue}{<=}$: less than or equal to\n",
        "*   $\\color{blue}{==}$: equivalent$\\hspace{28mm}\\color{blue}{\\text{NOTE}}$:  Not equal but equivalent\n",
        "*   $\\color{blue}{!=}$: not equivalent        $\\hspace{20mm}\\color{blue}{\\text{NOTE}}$:  Not equal but equivalent\n",
        "</details>"
      ],
      "metadata": {
        "id": "YL3G3yu4aOtT"
      }
    },
    {
      "cell_type": "markdown",
      "source": [
        "<details>\n",
        "  <summary><b>Logic Operators</b> </summary>\n",
        "  Python reserves three keywords \"$\\color{blue}{\\text{and}}$,\" \"$\\color{blue}{\\text{or}}$,\" $\\color{blue}{\\text{not}}$ \"to help us strining together the logic operators.  The resultant value can be found in the Truth Table below\n",
        "\n",
        "<details>\n",
        "  <summary><b>Truth Table</b> </summary>\n",
        "\n",
        "  | $p$  |  $q$  | $p$ and $q$|$p$ or $q$ |not $p$\n",
        "|:----:|:-------:|:-----:|:--:|:--:|\n",
        "| $T$  |  $T$  | $T$| $T$|$F$ |\n",
        "| $T$  | $F$ |$F$| $T$|$F$ \n",
        "| $F$|  $T$|$F$| $T$|$T$ |\n",
        "|$F$  |  $F$  | $F$| $F$|$T$ |\n",
        "\n",
        "</details>"
      ],
      "metadata": {
        "id": "ZnR9zXglZBC4"
      }
    },
    {
      "cell_type": "markdown",
      "source": [
        "<details>\n",
        "  <summary><b>Membersheip Operators</b> </summary>\n",
        "  Python reserves three keywords \"$\\color{blue}{\\text{in}}$\" and \"$\\color{blue}{\\text{not in}}$\" for membership operators to test if a sequence is presented in an object:\n",
        "\n",
        "|Operator|\tDescription|\tExample|\n",
        "|--|--|--|\n",
        "|`in` |\tReturns True if a sequence with the specified value is present in the object|\t`x in y`\t|\n",
        "|`not in`|\tReturns True if a sequence with the specified value is not present in the object|`x not in y`|\n",
        "</details>"
      ],
      "metadata": {
        "id": "QqrEDd6VbVfu"
      }
    },
    {
      "cell_type": "markdown",
      "metadata": {
        "id": "zWznmo62v4hJ"
      },
      "source": [
        "![purple-divider](https://user-images.githubusercontent.com/7065401/52071927-c1cd7100-2562-11e9-908a-dde91ba14e59.png)\n",
        "# **Numbers in Python**\n",
        "#### Numbers in Python work like numbers you've seen elsewhere; you can apply all the things you've learned about basic math to Python.\n",
        "\n",
        "There are three numeric types in Python: `int,  float, complex`\n",
        " "
      ]
    },
    {
      "cell_type": "markdown",
      "source": [
        "![green-divider](https://user-images.githubusercontent.com/7065401/52071924-c003ad80-2562-11e9-8297-1c6595f8a7ff.png)\n",
        "## 🔖 **$\\color{blue}{\\textbf{Practice: }}$ Representations and Precisions of Real numbers in a computer programming langauge**\n"
      ],
      "metadata": {
        "id": "TTjziAygKQ1B"
      }
    },
    {
      "cell_type": "markdown",
      "source": [
        "![green-divider](https://user-images.githubusercontent.com/7065401/52071924-c003ad80-2562-11e9-8297-1c6595f8a7ff.png)\n",
        "##🔖 **$\\color{blue}{\\textbf{Practice: }}$ Practice Numbers in Python**"
      ],
      "metadata": {
        "id": "GN-8-4oVuLqq"
      }
    },
    {
      "cell_type": "markdown",
      "source": [
        "### **1. Integers:** `Int` or `integer`, is a whole number, positive or negative, **without decimals**, of **unlimited length**."
      ],
      "metadata": {
        "id": "0MYwi1nvrklC"
      }
    },
    {
      "cell_type": "markdown",
      "source": [
        "### **2. Float:** `Float`, or \"floating point number\" is a number, positive or negative, containing one or more decimals."
      ],
      "metadata": {
        "id": "IK8HT_Js3FXD"
      }
    },
    {
      "cell_type": "markdown",
      "source": [
        "### **3. Scintific Notation:** Float can also be scientific numbers with an \"e\" to indicate the power of 10."
      ],
      "metadata": {
        "id": "UbwXqYRmsiSI"
      }
    },
    {
      "cell_type": "markdown",
      "source": [
        "### **4. Complex:** Complex numbers are written with a \"j\" as the imaginary part:"
      ],
      "metadata": {
        "id": "iN92q1y842mP"
      }
    },
    {
      "cell_type": "markdown",
      "source": [
        "![purple-divider](https://user-images.githubusercontent.com/7065401/52071927-c1cd7100-2562-11e9-908a-dde91ba14e59.png)\n",
        "# **$🔶 \\textbf{   If Statements   }🔶$**\n",
        "> A **block** of code is a collection of lines of code that are either all executed (in sequential order) or all skipped. Blocks always start with a **colon** (:) on the previous line and require every line in the block to be indented the same amount using tabs or spaces. One way in which Python can execute or skip over a block involves using an if command and a Boolean expression. **`If`** the expression is true, then the block executes. Othewise, the block is skipped."
      ],
      "metadata": {
        "id": "G9SjoEXNRFdV"
      }
    },
    {
      "cell_type": "markdown",
      "source": [
        "---\n",
        "### **🔖 $\\color{blue}{\\textbf{Practice:}}$ *If-Else Statements for coin tossing***"
      ],
      "metadata": {
        "id": "QRxqoLAhhvjp"
      }
    },
    {
      "cell_type": "markdown",
      "source": [
        "#### In order to force exactly 1 of more than 2 blocks to execute, you can use the elif command in addition to the if and else commands. Each elif command must be followed by a Boolean expression. When using if and elif commands, each expression is checked in sequential order, and the block following the first true expression executes. If none of the expressions are true, the block following the else command is executed."
      ],
      "metadata": {
        "id": "2mc0HQ9eiWoZ"
      }
    },
    {
      "cell_type": "markdown",
      "source": [
        "![purple-divider](https://user-images.githubusercontent.com/7065401/52071927-c1cd7100-2562-11e9-908a-dde91ba14e59.png)\n",
        "# **$🔶 \\textbf{   Lists and Loops   }🔶$**\n",
        "\n",
        "> When you need to consider many values at once, use a list."
      ],
      "metadata": {
        "id": "dIjnBETKkBMk"
      }
    },
    {
      "cell_type": "markdown",
      "source": [
        "![green-divider](https://user-images.githubusercontent.com/7065401/52071924-c003ad80-2562-11e9-8297-1c6595f8a7ff.png)\n",
        "##**Indexing**"
      ],
      "metadata": {
        "id": "fZfGcN2MjcsJ"
      }
    },
    {
      "cell_type": "markdown",
      "source": [
        "---\n",
        "### **🔖 $\\color{blue}{\\textbf{Practice:}}$ *List Indexing***\n",
        "\n",
        "#### Try index -2."
      ],
      "metadata": {
        "id": "IGAoN8p0kBMl"
      }
    },
    {
      "cell_type": "markdown",
      "metadata": {
        "id": "snZkAflb3C9D"
      },
      "source": [
        "![green-divider](https://user-images.githubusercontent.com/7065401/52071924-c003ad80-2562-11e9-8297-1c6595f8a7ff.png)\n",
        "## **For - Loops with the sequnce data type `Range()` function**\n",
        "\n",
        "\n",
        "####`range(start, stop, strike)`\n",
        "\n",
        "<details>\n",
        "  <summary><b>Show Description of parameters</b></summary>\n",
        "\n",
        "#### refers to a sequence of numbers that forms a simple arithmetic progression such as ${a_0, a_1, ..., a_{n}} = {1, 3, 5, 2N-1}$. In such a sequence, each item is spaced by a constant value, the **_strike_** Representing such arithmetic progressions for iterating over is the purpose of range type\n",
        "\n",
        "*   start\t_Optional_: An integer number specifying at which position to start. **Default is 0.**\n",
        "*  $\\color{red}{\\text{stop Required}}$: An integer number specifying at which position to stop (not included).\n",
        "*   step\tOptional: An integer number specifying the incrementation. **Default is 1.**\n",
        "</details>"
      ]
    },
    {
      "cell_type": "markdown",
      "source": [
        "<details>\n",
        "  <summary><b>Show sample of all options of a range() function</b></summary>\n",
        "Find out the first integer, the interger to stop at, the strike and the arithmetic pregression specified by the following ```range()``` functions and write code to verify\n",
        "\n",
        "|```range()```|Starting Integer $a_0$| Integer to stop at|Strike| the arithmetic progression|\n",
        "|--|--|--|--|--|\n",
        "| ```rang(5)```|0|4|1|  0, 1, 2, 3, 4|\n",
        "| ```rang(1, 6)```|1|5|1|  1, 2, 3,  4, 5|\n",
        "| ```rang(0, 6, 2)```|0|4|2|   0, 2, 4|\n",
        " ```rang(10, 0, -2)```|10|2|-2|  10, 8, 6, 4, 2\n",
        "\n",
        "</details>"
      ],
      "metadata": {
        "id": "VXM077UeFd_s"
      }
    },
    {
      "cell_type": "markdown",
      "source": [
        "### **🔖 $\\color{blue}{\\textbf{Practice:}}$ using range function in for-loop**\n",
        "\n",
        "### Combine code from the Coin Flip code problem"
      ],
      "metadata": {
        "id": "GnVqsB2Ju-Hv"
      }
    },
    {
      "cell_type": "markdown",
      "source": [
        "### $\\color{violet}{\\textbf{modification: }}$ increase the number of toss to 100,000 and comment out all the print statement inside the for loop"
      ],
      "metadata": {
        "id": "Gj1L-oNiCGk4"
      }
    },
    {
      "cell_type": "markdown",
      "source": [
        "### **🔖 $\\color{blue}{\\textbf{Practice:}}$ *For Loops Without Indices***\n",
        "\n",
        "* What line creates the variable x?\n",
        "* What line modifies it?"
      ],
      "metadata": {
        "id": "mpAulyjBsiqj"
      }
    },
    {
      "cell_type": "markdown",
      "source": [
        "![purple-divider](https://user-images.githubusercontent.com/7065401/52071927-c1cd7100-2562-11e9-908a-dde91ba14e59.png)\n",
        "# **$🔶 \\textbf{   Python Slicing Operator   }🔶$**"
      ],
      "metadata": {
        "id": "GNvCidZGUqnx"
      }
    },
    {
      "cell_type": "markdown",
      "source": [
        "![green-divider](https://user-images.githubusercontent.com/7065401/52071924-c003ad80-2562-11e9-8297-1c6595f8a7ff.png)\n",
        "## **Syntax**\n",
        "### `(start: stop: step) `\n",
        "\n",
        "#### **Slicing** will start from index start and will go up to stop in step of steps. "
      ],
      "metadata": {
        "id": "0RTgelqankU5"
      }
    },
    {
      "cell_type": "markdown",
      "source": [
        "### **🔖 $\\color{blue}{\\textbf{Practice: }}$  Show default `start`, `stop`, and `step`**"
      ],
      "metadata": {
        "id": "K7Tw0CtUxTy7"
      }
    },
    {
      "cell_type": "markdown",
      "source": [
        "* #### **Default** `start`, `stop`, and `step` \n",
        "  `[: stop : 2]` starts with 0\\\n",
        "  `[1: : 2]` stop is the last index of the list\\\n",
        "  `[1: 7 ]`  step is 1 \\"
      ],
      "metadata": {
        "id": "v4KS-5a2xpEG"
      }
    },
    {
      "cell_type": "markdown",
      "source": [
        "### **🔖 $\\color{blue}{\\textbf{Practice: }}$  Show Special cases of slicing**"
      ],
      "metadata": {
        "id": "t-HZPHg7xtZC"
      }
    },
    {
      "cell_type": "markdown",
      "source": [
        "* #### **Special Case**\n",
        "  `[: stop]` will slice list from starting till stop index and \\\n",
        "  `[start : ]` will slice list from start index till end \\\n",
        "  `[: : -1]` prints list in reverse order.  Any negative value of steps shows right to left traversal instead of left to right traversal."
      ],
      "metadata": {
        "id": "nrg7PHEMxrXG"
      }
    },
    {
      "cell_type": "markdown",
      "source": [
        "![green-divider](https://user-images.githubusercontent.com/7065401/52071924-c003ad80-2562-11e9-8297-1c6595f8a7ff.png)\n",
        "## **Getting Part of a List**"
      ],
      "metadata": {
        "id": "BFCqVIcDn6oH"
      }
    },
    {
      "cell_type": "markdown",
      "source": [
        "### **🔖 $\\color{blue}{\\textbf{Practice: }}$  Get part of a list and array using slicing operator**"
      ],
      "metadata": {
        "id": "7JFswHJJUS-p"
      }
    },
    {
      "cell_type": "markdown",
      "source": [
        "#### **1.** Create a list of numbers from 1 to 10"
      ],
      "metadata": {
        "id": "9oNEuJL6iC8L"
      }
    },
    {
      "cell_type": "markdown",
      "source": [
        "#### **2.** Slice the numbers from 6 to 8 from the list"
      ],
      "metadata": {
        "id": "KBiNc-uriO4P"
      }
    },
    {
      "cell_type": "markdown",
      "source": [
        "#### **3.** Slice the numbers from 2 to 10 from the list"
      ],
      "metadata": {
        "id": "qFORFgyzi0Ok"
      }
    },
    {
      "cell_type": "markdown",
      "source": [
        "#### **4.** Slice the numbers from 1 to 5 from the list"
      ],
      "metadata": {
        "id": "-SdELR4Zi09c"
      }
    },
    {
      "cell_type": "markdown",
      "source": [
        "#### **5.** Slice the numbers from 10 to 1 from the list in reverse order"
      ],
      "metadata": {
        "id": "LECN0WGUi2ep"
      }
    },
    {
      "cell_type": "markdown",
      "source": [
        "![purple-divider](https://user-images.githubusercontent.com/7065401/52071927-c1cd7100-2562-11e9-908a-dde91ba14e59.png)\n",
        "# **$🔶 \\textbf{   Python Basic Named Function   }🔶$**\n",
        "> In the examples above we have called several functions like print() and len(). You can define your own functions using **`def`** . A function definition includes zero or more parameter variables . The values of those **parameter variables** are referred to as the **arguments** of the function."
      ],
      "metadata": {
        "id": "mi4Y8_PXypuT"
      }
    },
    {
      "cell_type": "markdown",
      "source": [
        "---\n",
        "### **🔖 $\\color{blue}{\\textbf{Practice:}}$ *Defining Functions***\n",
        "\n",
        "* What line creates the variables a and b?\n",
        "*When does that line execute?\n",
        "* How many times?\n",
        "* Where do the variables a and b get their values from?"
      ],
      "metadata": {
        "id": "0AdaPEO1y5W-"
      }
    },
    {
      "cell_type": "markdown",
      "source": [
        "![purple-divider](https://user-images.githubusercontent.com/7065401/52071927-c1cd7100-2562-11e9-908a-dde91ba14e59.png)\n",
        "# **$🔶 \\textbf{   Sympy (for Computer Algebra System (CAS)) }🔶$**\n",
        "# **$ 🔶  \\textbf{  Numpy (for numerical computation)  }🔶$**\n",
        "> In the examples above we have called several functions like print() and len(). You can define your own functions using **`def`** . A function definition includes zero or more parameter variables . The values of those **parameter variables** are referred to as the **arguments** of the function."
      ],
      "metadata": {
        "id": "FVKXV2hvGVPX"
      }
    },
    {
      "cell_type": "markdown",
      "source": [
        "## **🔖 $\\color{blue}{\\textbf{Practice:}}$** *CAS with Sympy*"
      ],
      "metadata": {
        "id": "VmBq_1tIQbtg"
      }
    },
    {
      "cell_type": "markdown",
      "source": [
        "### $\\color{red}{\\textbf{notice the nice Latex output of the symbol x}}$\n"
      ],
      "metadata": {
        "id": "cdFG8uJtPd9n"
      }
    },
    {
      "cell_type": "markdown",
      "source": [
        "## **Syntax for differentiation** `# diff(expression, variable)`"
      ],
      "metadata": {
        "id": "9qyJvlnUSgm0"
      }
    },
    {
      "cell_type": "markdown",
      "source": [
        "## **Syntax for integration** `integrate(integrand, (variable, lower limit, upper limit))`"
      ],
      "metadata": {
        "id": "8ACiYTb7SqCZ"
      }
    },
    {
      "cell_type": "markdown",
      "source": [
        "### $\\color{red}{\\textbf{notice the output like regular math expression in your algebra course}}$"
      ],
      "metadata": {
        "id": "3EikOMCcPqHX"
      }
    },
    {
      "cell_type": "markdown",
      "source": [
        "### $\\color{red}{\\textbf{notice the display command turn a python code into mathematical algebraic expression CAS}}$"
      ],
      "metadata": {
        "id": "67g0pk8GP3YJ"
      }
    },
    {
      "cell_type": "markdown",
      "source": [
        "## **🔖 $\\color{blue}{\\textbf{Practice:}}$** *Symbolic vs. Numerical Math*\n"
      ],
      "metadata": {
        "id": "n7HK-x5gG_rD"
      }
    },
    {
      "cell_type": "markdown",
      "source": [
        "### $\\color{red}{\\textbf{Be prepared to consider a number in the magnitude of }} 10^{-17} \\color{red}{ ≈} 0$"
      ],
      "metadata": {
        "id": "TxL8Nq2tTpAj"
      }
    },
    {
      "cell_type": "markdown",
      "source": [
        "###**$\\color{green}{\\textbf{Option TO DO:}}$** Write codes to compute the value of $\\mathbf{cos}(\\frac{\\pi}{2})$. Can you explain why the output is not zero?"
      ],
      "metadata": {
        "id": "JG0p_T-UTcW7"
      }
    }
  ]
}