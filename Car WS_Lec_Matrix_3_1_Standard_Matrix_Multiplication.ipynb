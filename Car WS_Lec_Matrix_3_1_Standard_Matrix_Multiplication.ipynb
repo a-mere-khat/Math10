{
  "nbformat": 4,
  "nbformat_minor": 0,
  "metadata": {
    "colab": {
      "provenance": [],
      "include_colab_link": true
    },
    "kernelspec": {
      "name": "python3",
      "display_name": "Python 3"
    },
    "language_info": {
      "name": "python"
    }
  },
  "cells": [
    {
      "cell_type": "markdown",
      "metadata": {
        "id": "view-in-github",
        "colab_type": "text"
      },
      "source": [
        "<a href=\"https://colab.research.google.com/github/a-mere-khat/Math10/blob/master/Car%20WS_Lec_Matrix_3_1_Standard_Matrix_Multiplication.ipynb\" target=\"_parent\"><img src=\"https://colab.research.google.com/assets/colab-badge.svg\" alt=\"Open In Colab\"/></a>"
      ]
    },
    {
      "cell_type": "markdown",
      "source": [
        "![purple-divider](https://user-images.githubusercontent.com/7065401/52071927-c1cd7100-2562-11e9-908a-dde91ba14e59.png)\n",
        "# **$$ ⛳ \\textbf{ Standard Matrix Multiplication }⛳ $$**"
      ],
      "metadata": {
        "id": "R4bZQgBhSVwl"
      }
    },
    {
      "cell_type": "markdown",
      "source": [
        "![green-divider](https://user-images.githubusercontent.com/7065401/52071924-c003ad80-2562-11e9-8297-1c6595f8a7ff.png)\n",
        "## **Objectives** \n",
        "\n",
        "<span style=\"font-family:Papyrus; color:red; font-size:4em;\">By the end of this lesson, you will:</span>\n",
        "\n",
        "\n",
        "#### $\\color{teal}{- \\text{Know the condition when matrix multiplication is valid and the size of the resultant matrix}}$\n",
        "####$\\color{violet}{-\\text{Understand why the vector dot-product is written as } \\mathbf{v}^{\\text{T}}\\mathbf{w}}$\n",
        "####$\\color{orange}{-\\text{Understand that matrix multiplications, in general, are associative, that is , } \\mathbf{AB \\ne BA}}.$\n",
        "####$\\color{brown}{-\\text{Know the four ways to compute and conceptualize matrix-matrix multiplication.}}.$\n"
      ],
      "metadata": {
        "id": "TYjFSFM_5hVw"
      }
    },
    {
      "cell_type": "markdown",
      "source": [
        "![green-divider](https://user-images.githubusercontent.com/7065401/52071924-c003ad80-2562-11e9-8297-1c6595f8a7ff.png)\n",
        "## **Standard Matrix Multiplciations**"
      ],
      "metadata": {
        "id": "Eyo4daqnPJoc"
      }
    },
    {
      "cell_type": "markdown",
      "source": [
        "<details>\n",
        "  <summary><b>Introduction</b></summary>\n",
        "* This is the start of an entire section dedicated solely to matrix multiplication, so you can probably guess that matrix multiplication is quite a bit more complicated than multiplication of scalars or even vectors.\n",
        "\n",
        "* There are several totally distinct ways to multiply matrices.  Some pairs of matrices simply cannot be multiplied.\n",
        "\n",
        "* There are four ways to think about and to implement matrix multiplication.  All four of these methods give exactly the same result but they provide a different perspective on what. matrix multiplication means.\n",
        "\n",
        "It's useful to understand all four of these perspectives because they provide distinct insights into matrix computations in different contexts and for different purposes.\n",
        "</details>"
      ],
      "metadata": {
        "id": "qsy4HuXSQB5N"
      }
    },
    {
      "cell_type": "markdown",
      "source": [
        "![green-divider](https://user-images.githubusercontent.com/7065401/52071924-c003ad80-2562-11e9-8297-1c6595f8a7ff.png)\n",
        "## **🔖 $\\color{blue}{\\textbf{Practice: }}$ Rules for Matrix Multiplication in Python**\n",
        "### **The inner dimensions** of the two matrices must **match** and the size of the product matrix corresponds to the outer dimensions."
      ],
      "metadata": {
        "id": "NV82cljN1qeq"
      }
    },
    {
      "cell_type": "markdown",
      "source": [
        "#### 📕 **Note: Two methods for computing transpose of a matrix A** \n",
        "\n",
        "#### **1.** To use `A.T`, A must be an `numpy array`.\n",
        "\n",
        "#### **2.** To use `numpy.transpose(A)`, A can be other types of variables as well."
      ],
      "metadata": {
        "id": "GWYpD6Zu0zs9"
      }
    },
    {
      "cell_type": "markdown",
      "source": [
        "---\n",
        "#### Given $m = 4,n = 3$, and $k = 6$, we define random matrices:\n",
        "\n",
        "#### $\\mathbf{A}$ of size $m\\times n$, $\\mathbf{B}$ of size $n\\times k$, and $\\mathbf{C}$ of size $m\\times k$ \n",
        "\n",
        "#### **Apply matrix multiplication rules** to test which of the following multiplications are valid.\n",
        "\n",
        "#### ***Think of your answer first, then verify with code.***\n",
        "\n",
        "\n",
        "#### **1.** $\\mathbf{AB}\\quad$ **2.** $\\mathbf{AA}\\quad$**3.** $\\mathbf{A}^{\\text{T}}\\mathbf{C}\\quad$ **4.** $\\mathbf{B}\\mathbf{B}^{\\text{T}}\\quad$ **5.** $\\mathbf{B}^{\\text{T}}\\mathbf{B}\\quad$ **6.** $\\mathbf{BC}\\quad$ **7.** $\\mathbf{CB}\\quad$ **8.** $\\mathbf{C}^{\\text{T}}\\mathbf{B}\\quad$ **9.** $\\mathbf{C}\\mathbf{B}^{\\text{T}}\\quad$"
      ],
      "metadata": {
        "id": "hnSU1IfmkobD"
      }
    },
    {
      "cell_type": "markdown",
      "source": [
        "### **Create matrices with difference sizes**"
      ],
      "metadata": {
        "id": "s0p74iTy24k9"
      }
    },
    {
      "cell_type": "markdown",
      "source": [
        "### **Apply matrix multiplication rules to test if the above multiplications 1 to 9 are valid**"
      ],
      "metadata": {
        "id": "WUIN3sop3kRB"
      }
    },
    {
      "cell_type": "markdown",
      "source": [
        "![green-divider](https://user-images.githubusercontent.com/7065401/52071924-c003ad80-2562-11e9-8297-1c6595f8a7ff.png)\n",
        "## **Link to a slide of [Four ways (persectives) of computing matrix multiplications](https://drive.google.com/file/d/1wVN7pHMcvao5kINzE5I3uVxZVMqhRDMh/view?usp=share_link)**"
      ],
      "metadata": {
        "id": "wShTJKfpuAuF"
      }
    }
  ]
}