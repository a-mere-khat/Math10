{
  "nbformat": 4,
  "nbformat_minor": 0,
  "metadata": {
    "colab": {
      "provenance": [],
      "collapsed_sections": [
        "s4H7Ci2rEQGx"
      ],
      "include_colab_link": true
    },
    "kernelspec": {
      "name": "python3",
      "display_name": "Python 3"
    }
  },
  "cells": [
    {
      "cell_type": "markdown",
      "metadata": {
        "id": "view-in-github",
        "colab_type": "text"
      },
      "source": [
        "<a href=\"https://colab.research.google.com/github/a-mere-khat/Math10/blob/master/Car%20WS_HW_w_Code_1_8_Dot_Product_with_Matrix_Columns.ipynb\" target=\"_parent\"><img src=\"https://colab.research.google.com/assets/colab-badge.svg\" alt=\"Open In Colab\"/></a>"
      ]
    },
    {
      "cell_type": "markdown",
      "source": [
        "![purple-divider](https://user-images.githubusercontent.com/7065401/52071927-c1cd7100-2562-11e9-908a-dde91ba14e59.png)\n",
        "# **$$ ⛳ \\textbf{Assignments with Code }⛳ $$**\n"
      ],
      "metadata": {
        "id": "cN4FdQK1jZ07"
      }
    },
    {
      "cell_type": "markdown",
      "source": [
        "![green-divider](https://user-images.githubusercontent.com/7065401/52071924-c003ad80-2562-11e9-8297-1c6595f8a7ff.png)\n",
        "## **Why Use High-Level Computer Programs in Teching and Learning Math** \n",
        "\n",
        "One of the reasons I use programs like Python in Math courses for teaching mathematical concepts and doing assignments is that these kinds of computer programs are great for helping us understand and internalize concepts in mathematics.\n",
        "\n",
        "We can let the computers do all the low-level implementation details, so we don't have to worry about getting bogged down in a lot of arithmetic dealing with all the arithmetic and whether we are great artists. We are free to focus on mathematical concepts and spend much time on visualizations and higher dimensions.\n"
      ],
      "metadata": {
        "id": "37P7INV5vRtw"
      }
    },
    {
      "cell_type": "markdown",
      "source": [
        "![green-divider](https://user-images.githubusercontent.com/7065401/52071924-c003ad80-2562-11e9-8297-1c6595f8a7ff.png)\n",
        "## **Emperical Proof (Soft Proof)**\n",
        "\n",
        "We stated that \"Software is a Laboratory in the 21st Century\". And in particular, one thing for which we can use computers in mathematics is to help us understand concepts by testing hypotheses: we can come up with an idea and write computer code to create a \"virtual lab\" to test whether the hypothesis seems to be the case or whether it is violated.\n",
        "\n",
        "We call this type of proof empirical proof or soft proof.\n",
        "\n",
        "It's safe to assume that programs like Matlab, Python, Octave or Mathematica, or Maple implement mathematics correctly and accurately. So we trust computers so we can test out different things on the computers and use code as a way to prove a concept or disprove an idea.\n",
        "\n",
        "\n",
        "Empirical proof is not the same as a formal, rigorous mathematical proof. Still, it is instrumental in understanding mathematics, gaining computational thinking ability, and developing a marketable job skill in computer programming."
      ],
      "metadata": {
        "id": "PzSsSPQXtyjM"
      }
    },
    {
      "cell_type": "markdown",
      "source": [
        "![green-divider](https://user-images.githubusercontent.com/7065401/52071924-c003ad80-2562-11e9-8297-1c6595f8a7ff.png)\n",
        "## **Requirements**\n",
        "\n",
        "* Description what the proposed hypothesis in text cells with markdown and Latex formats for text and mathematics.\n",
        "* Readible Python code following good practices for scientific programming.\n",
        "* Print key outputs with identifications\n",
        "* Discussions of the results of hypothesis test with conclusions about the results of hypothesis \n"
      ],
      "metadata": {
        "id": "S7qk9pJ5w6Nn"
      }
    },
    {
      "cell_type": "markdown",
      "source": [
        "![purple-divider](https://user-images.githubusercontent.com/7065401/52071927-c1cd7100-2562-11e9-908a-dde91ba14e59.png)\n",
        "\n",
        "# **$$ ⛳ \\textbf{   Dot Product with Matrix Columns  }⛳ $$**"
      ],
      "metadata": {
        "id": "ha6K8qTjtRxn"
      }
    },
    {
      "cell_type": "markdown",
      "source": [
        "![green-divider](https://user-images.githubusercontent.com/7065401/52071924-c003ad80-2562-11e9-8297-1c6595f8a7ff.png)\n",
        "## **Objective** \n",
        "\n",
        "####  To incorporate concepts or thinking about concepts that you'relearning in the more theoretical aspects of this course using combination of problem solving skills and a little bit of programming skills, a great way to improve your linear algebra, skills and comprehension while also simultaneously.\n",
        "\n",
        "##### ✅ **$\\color{darkorange}{\\textbf{There are many different versions of solutions}}$**"
      ],
      "metadata": {
        "id": "fVPtMgktNzsd"
      }
    },
    {
      "cell_type": "markdown",
      "source": [
        "![green-divider](https://user-images.githubusercontent.com/7065401/52071924-c003ad80-2562-11e9-8297-1c6595f8a7ff.png)\n",
        "## 🤔 **Stragegies: Thinking more about the products and working with products**"
      ],
      "metadata": {
        "id": "s4H7Ci2rEQGx"
      }
    },
    {
      "cell_type": "markdown",
      "source": [
        "\n",
        "\n",
        "* Think  about the first matrix that are made of row vectors:\n",
        "\n",
        "> Let $\\mathbf{v_1, v_2, ... v_n}$ to be column vectors in the matrix $\\mathbf{A}$, that is\n",
        "$$\n",
        "\\large\n",
        "\\mathbf{A} = \n",
        "\\begin{bmatrix}\n",
        "\\mathbf{v_1} &\n",
        "\\mathbf{v_2} &\n",
        "\\cdots&\n",
        "\\mathbf{v_n}\n",
        "\\end{bmatrix}\n",
        "$$\n",
        "\n",
        "* Think about the second matrix that are made of column vectors:\n",
        "\n",
        "> Let $\\mathbf{w_1, w_2, ... w_n}$ to be row vectors in the matric $\\mathbf{B}$, that is\n",
        "\n",
        "$$\n",
        "\\large\n",
        "\\mathbf{B} = \n",
        "\\begin{bmatrix}\n",
        "\\mathbf{w_1} &\n",
        "\\mathbf{w_2} &\n",
        "\\cdots&\n",
        "\\mathbf{w_n}\n",
        "\\end{bmatrix}\n",
        "$$\n",
        "\n",
        "### **The Dot product of vectors in the matrix for are then computed as**\n",
        "\\\\\n",
        "$$\\Large\n",
        "\\begin{align}\n",
        "\\mathbf{A}^{\\text{T}}\\mathbf{B} & =\n",
        "\\begin{bmatrix}\n",
        "\\mathbf{v_1} &\n",
        "\\mathbf{v_2} &\n",
        "\\cdots&\n",
        "\\mathbf{v_n} &\n",
        "\\end{bmatrix}^{\\text{T}}\n",
        "\\begin{bmatrix}\n",
        "\\mathbf{w_1} &\n",
        "\\mathbf{w_2} &\n",
        "\\cdots&\n",
        "\\mathbf{w_n}\n",
        "\\end{bmatrix} \\\\ \\\\\n",
        "&= \\begin{bmatrix}\n",
        "\\mathbf{v_1} \\\\\n",
        "\\mathbf{v_2} \\\\\n",
        "\\vdots\\\\\n",
        "\\mathbf{v_n} \\\\\n",
        "\\end{bmatrix}\n",
        "\\begin{bmatrix}\n",
        "\\mathbf{w_1} &\n",
        "\\mathbf{w_2} &\n",
        "\\cdots&\n",
        "\\mathbf{w_n}\n",
        "\\end{bmatrix} \\\\ \\\\\n",
        "& = \\mathbf{v_1\\cdot w_1}\\,+\\,\\mathbf{v_2\\cdot w_2}\\,+ \\cdots+\\, \\mathbf{v_n\\cdot w_n} \\\\ \\\\\n",
        "& = \\sum_i^n \\mathbf{v_i\\cdot w_i} \n",
        "\\end{align} \n",
        "$$"
      ],
      "metadata": {
        "id": "zd4EE0yREMH9"
      }
    },
    {
      "cell_type": "markdown",
      "source": [
        "![green-divider](https://user-images.githubusercontent.com/7065401/52071924-c003ad80-2562-11e9-8297-1c6595f8a7ff.png)\n",
        "## ⏰ **Syntax Reminder: See Introduction to Python for details**\n",
        "\n",
        "### **1.** Creating $m\\times n$ dimentional random matrix: `numpy.random.randn(m,n)`\n",
        "### **2.** Creating $m$ dimentional zero matrix: `numpy.zeros(m)`\n",
        "### **3.** Slice the $i$th row as a vector (for example $\\mathbf{u_i}$) from a matrix: `A[ : , i]` \n",
        "\n",
        "### **4.** Slice the $j$th column as a vector (for example $\\mathbf{w_j}$) from a matrix: `B[ j, :]` \n",
        "\n"
      ],
      "metadata": {
        "id": "d72uqtE1CV3J"
      }
    },
    {
      "cell_type": "markdown",
      "source": [
        "![green-divider](https://user-images.githubusercontent.com/7065401/52071924-c003ad80-2562-11e9-8297-1c6595f8a7ff.png)\n",
        "## **🔖  TODOs**"
      ],
      "metadata": {
        "id": "Eqob1AOlZKAb"
      }
    },
    {
      "cell_type": "markdown",
      "source": [
        "---\n",
        "### **$\\color{brown}{\\textbf{TODO 1: }}$ Code for the experiment**"
      ],
      "metadata": {
        "id": "GrietmCFZTzy"
      }
    },
    {
      "cell_type": "markdown",
      "source": [
        "\n",
        "#### **Step 1.** Think about matrices in terms of column, so you can think about a matrix as being a collection of column vectors.\n",
        "\n",
        "#### **Step 2** Create two $4x6$ matrices of **random numbers**, meaning four rows and six columns.  .  The syntax for generating $m\\times n$ matrix is `numpy.random.randn(m, n)` where `m` and `n` are numbers of rows and columns of this random matrix respectively.\n",
        "\n",
        "##### ✅ **$\\color{darkorange}{\\textbf{There are many different ways to create a random number and a set of random numbers.}}$**\n",
        "##### 🎨 $\\color{darkorange}{\\textbf{ TIP: print to test your code with a small sized and known outcome to verify your algorithm.}}$ \n",
        "\n",
        "#### **Step 3. Compute DOT products:**\n",
        " \n",
        "* Create a vector (array) of size 6 and initialize it with value of zero\n",
        "* Use a for loop to compute the **DOT product** between each corresponding column, so the first column of the first matrix in the first column of the second matrix compute the DOT product between them and then the DOT product between the second column of the first matrix and the second column of the second Matrix and so on.\n",
        "\n",
        "#### 🎨 $\\color{darkorange}{\\text{ TIP: Test your for-loop with a small sized matices with integer elements.}}$ \n",
        "* Store the dot product in each loop to the initialized array\n",
        "* Print out all the values of the dot products with identifications of the variable"
      ],
      "metadata": {
        "id": "le-DzREwuscw"
      }
    },
    {
      "cell_type": "code",
      "source": [
        "# Your code goes here"
      ],
      "metadata": {
        "id": "BVDSbqIF0e6o"
      },
      "execution_count": null,
      "outputs": []
    },
    {
      "cell_type": "markdown",
      "source": [
        "\n",
        "My Notes:\n",
        "\n",
        "* Random numbers are drawn from a normal distribution\n",
        "* Each column in a matrix is a vector\n",
        "* And then inside this loop, I want to compute the dot product.\n",
        "\n",
        "* So more generally, it's the ith column of $a$. Now you will learn about this in the next section of the course.\n",
        "\n",
        "* In general, matrices are always referred to as **rows by columns**. So we want all of the rows in the $i$th column of $a$.  And then a Matrix $b$. We want again all the rows and the $i$th column.\n",
        "\n",
        "Now this on its own is not exactly super useful because this is simply computing the dot product and\n",
        "\n",
        "* It would be useful to store the resulting dot products into a vector.\n",
        "\n",
        "So I'll call that vector DPS for dot products.\n",
        "\n",
        "* Formatting may look a bit different between them.  This matrix happened to have some fairly extreme values, so Python decided to switch to using scientific notation. That's why I have this e minus for this means four times 10 to the power of minus four.  So this is actually a very small number.\n"
      ],
      "metadata": {
        "id": "VtZUAww0tAnA"
      }
    },
    {
      "cell_type": "markdown",
      "source": [
        "---\n",
        "### **$\\color{brown}{\\textbf{TODO 2: }}$ Instructions soft code the experiment**"
      ],
      "metadata": {
        "id": "3R2totyj2G6i"
      }
    },
    {
      "cell_type": "markdown",
      "source": [
        "Soft code is to make the code generalize to any dimentions\n",
        "\n",
        "* Define two variables for row and column numbers\n",
        "\n",
        "* Modify your code above to use the row and column variable for computing dot product of columns of Matrices $A$ and $B$.  (NoteL: you might want to comment out some of the print statements for larger size of row and column numbers.)"
      ],
      "metadata": {
        "id": "-Q7mnssn103w"
      }
    },
    {
      "cell_type": "code",
      "source": [
        "# Your code goes here"
      ],
      "metadata": {
        "id": "lXc3LQHPALGZ"
      },
      "execution_count": null,
      "outputs": []
    },
    {
      "cell_type": "markdown",
      "source": [
        "---\n",
        "### **$\\color{brown}{\\textbf{TODO 3: }}$ Discussion and conslusion about your hypothesis based on your experiemntal results from your code**\n",
        "\n",
        "#### **1.** Are we proving anything?\n",
        "#### **2.** Explore various values of row and column numbers and describe the outcomes and make a conslusion."
      ],
      "metadata": {
        "id": "fHUUsdr9iDSd"
      }
    },
    {
      "cell_type": "markdown",
      "source": [
        "---\n",
        "### **$\\color{brown}{\\textbf{TODO 4: }}$ Discussions and observations**\n",
        "\n",
        "#### Write your discussion about the following prompts\n",
        "#### **1.** What some usefule code you learned?\n",
        "#### **2.** Why do we want to use random matrix?\n",
        "#### **3.** Did you observe different ways Python formats very small real numbers?\n",
        "\n",
        "#### **4.** What would Python do when the numerical value of dot product becomes very small.  \n",
        "\n",
        "#### **5.** Observe how small the value becomes when Python decides to use the scientific notation."
      ],
      "metadata": {
        "id": "YGXZL_HwbIU2"
      }
    }
  ]
}