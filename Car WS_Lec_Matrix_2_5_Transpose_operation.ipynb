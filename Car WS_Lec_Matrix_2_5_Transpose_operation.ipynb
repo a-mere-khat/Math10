{
  "nbformat": 4,
  "nbformat_minor": 0,
  "metadata": {
    "colab": {
      "provenance": [],
      "include_colab_link": true
    },
    "kernelspec": {
      "name": "python3",
      "display_name": "Python 3"
    },
    "language_info": {
      "name": "python"
    }
  },
  "cells": [
    {
      "cell_type": "markdown",
      "metadata": {
        "id": "view-in-github",
        "colab_type": "text"
      },
      "source": [
        "<a href=\"https://colab.research.google.com/github/a-mere-khat/Math10/blob/master/Car%20WS_Lec_Matrix_2_5_Transpose_operation.ipynb\" target=\"_parent\"><img src=\"https://colab.research.google.com/assets/colab-badge.svg\" alt=\"Open In Colab\"/></a>"
      ]
    },
    {
      "cell_type": "markdown",
      "source": [
        "![purple-divider](https://user-images.githubusercontent.com/7065401/52071927-c1cd7100-2562-11e9-908a-dde91ba14e59.png)\n",
        "# **$$ ⛳ \\textbf{ Transpose Operation}⛳ $$**\n",
        "\n",
        "\n"
      ],
      "metadata": {
        "id": "RNFxe_SigFfh"
      }
    },
    {
      "cell_type": "markdown",
      "source": [
        "![green-divider](https://user-images.githubusercontent.com/7065401/52071924-c003ad80-2562-11e9-8297-1c6595f8a7ff.png)\n",
        "## **Objectives** \n",
        "\n",
        "<span style=\"font-family:Papyrus; color:red; font-size:4em;\">By the end of this lesson, you will:</span>\n",
        "\n",
        "\n",
        "#### - $\\color{teal}{\\text{Know how to transpose vectprs and matrices}}$\n",
        "#### - $\\color{violet}{\\text{Learn formal definitions of symmetric and skew-symmetric matrices}}$\n",
        "#### - $\\color{orange}{\\text{Be aware about the \"regular\" vs. Hermitian transpose in Python}}$\n",
        "#### - $\\color{black}{\\text{See an example of a complex matrix and the Hermitian transpose works the same on matrices as it does on vectors}}$"
      ],
      "metadata": {
        "id": "jSIXQHdAMrgn"
      }
    },
    {
      "cell_type": "markdown",
      "source": [
        "<details>\n",
        "  <summary><b>Explanation</b></summary>\n",
        "\n",
        "we've already learned the transpose operation in the previous section of this course on Vector's and now we are going to define about the transpose again in the context of matrices.\n",
        "\n",
        "So, again, the transpose operation is a way of flipping a matrix, and that basically means converting rows into columns and columns into rows.\n",
        "\n",
        "And we will again remind you of the difference between the regular transpose and the Hermitian transpose as we did for vectors.\n",
        "</details>"
      ],
      "metadata": {
        "id": "qsy4HuXSQB5N"
      }
    },
    {
      "cell_type": "markdown",
      "source": [
        "![green-divider](https://user-images.githubusercontent.com/7065401/52071924-c003ad80-2562-11e9-8297-1c6595f8a7ff.png)\n",
        "## **Review transposing of a vector**\n"
      ],
      "metadata": {
        "id": "nu8VhKVf5Cb-"
      }
    },
    {
      "cell_type": "markdown",
      "source": [
        "#### **Transposing a column vector**"
      ],
      "metadata": {
        "id": "ygoy4QG4TOUx"
      }
    },
    {
      "cell_type": "markdown",
      "source": [
        "$$\\Large\n",
        "    \\begin{bmatrix}\n",
        "    \\color{blue}{1 \\\\0\\\\2\\\\5\\\\ -2}\n",
        "    \\end{bmatrix}^{\\mathbf{T}}\n",
        "\\, =\\, \n",
        "\\begin{bmatrix}\n",
        "    \\color{blue}{1} &\\color{blue}{0}&\\color{blue}{2}&\\color{blue}{5}& \\color{blue}{-2}\n",
        "\\end{bmatrix}\n",
        " $$"
      ],
      "metadata": {
        "id": "GYsPB4gkSbZY"
      }
    },
    {
      "cell_type": "markdown",
      "source": [
        "#### **Transposing of a row vector**"
      ],
      "metadata": {
        "id": "ggeEiyeqTTWS"
      }
    },
    {
      "cell_type": "markdown",
      "source": [
        "$$\\Large\n",
        "\\begin{bmatrix}\n",
        "    \\color{blue}{1} &\\color{blue}{0}&\\color{blue}{2}&\\color{blue}{5}& \\color{blue}{-2}\n",
        "\\end{bmatrix}^{\\mathbf{T}}\n",
        "\\, = \\, \n",
        "\\begin{bmatrix}\n",
        "    \\color{blue}{1 \\\\0\\\\2\\\\5\\\\ -2}\n",
        "\\end{bmatrix}\n",
        " $$"
      ],
      "metadata": {
        "id": "26biSaw6TTWT"
      }
    },
    {
      "cell_type": "markdown",
      "source": [
        "#### **Transposing the transpose of column vector**"
      ],
      "metadata": {
        "id": "rXIVvLpJT6LA"
      }
    },
    {
      "cell_type": "markdown",
      "source": [
        "---\n",
        "$$\\Large\n",
        "\\color{blue}{\\mathbf{v}}^{\\text{T}\\text{T}}\\,=\\, \\color{blue}{\\mathbf{v}}\n",
        "$$"
      ],
      "metadata": {
        "id": "ZyAH5w48UgH0"
      }
    },
    {
      "cell_type": "markdown",
      "source": [
        "---\n",
        "### **example**\n",
        "$$\\Large\n",
        "\\left (    \\begin{bmatrix}\n",
        "    \\color{blue}{1 \\\\0\\\\2\\\\5\\\\ -2}\n",
        "    \\end{bmatrix}^{\\mathbf{T}}\\right )^{\\mathbf{T}}\n",
        "\\, =\\, \n",
        "\\begin{bmatrix}\n",
        "    \\color{blue}{1} &\\color{blue}{0}&\\color{blue}{2}&\\color{blue}{5}& \\color{blue}{-2}\n",
        "\\end{bmatrix}^{\\mathbf{T}}\n",
        "\\, = \\,\n",
        "\\begin{bmatrix}\n",
        "    \\color{blue}{1 \\\\0\\\\2\\\\5\\\\ -2}\n",
        "\\end{bmatrix}\n",
        " $$"
      ],
      "metadata": {
        "id": "L3hVs7lvUFPu"
      }
    },
    {
      "cell_type": "markdown",
      "source": [
        "![green-divider](https://user-images.githubusercontent.com/7065401/52071924-c003ad80-2562-11e9-8297-1c6595f8a7ff.png)\n",
        "## **Transposing a matrix**"
      ],
      "metadata": {
        "id": "mQ3i0xQKU89y"
      }
    },
    {
      "cell_type": "markdown",
      "source": [
        "$$\\Large\n",
        "    \\begin{bmatrix}\n",
        "    \\color{blue}{1} & \\color{teal}{5}\\\\ \\color{blue}{0}& \\color{teal}{6}\\\\\\color{blue}{2}&\\color{teal}{8}\\\\\\color{blue}{5}&\\color{teal}{3}\\\\ \\color{blue}{-2}&\\color{teal}{0}\n",
        "    \\end{bmatrix}^{\\mathbf{T}}\n",
        "\\, =\\, \n",
        "\\begin{bmatrix}\n",
        "    \\color{blue}{1} & \\color{blue}{0} & \\color{blue}{2} & \\color{blue}{5} & \\color{blue}{-2} \\\\\\color{teal}{5} & \\color{teal}{6}&\\color{teal}{8}&\\color{teal}{3} &\\color{teal}{0}\n",
        "    \\end{bmatrix}\n",
        " $$"
      ],
      "metadata": {
        "id": "36SUX6bXVngi"
      }
    },
    {
      "cell_type": "markdown",
      "source": [
        "#### **Transposing the transpose of a matrix**"
      ],
      "metadata": {
        "id": "UVafHZWDVngi"
      }
    },
    {
      "cell_type": "markdown",
      "source": [
        "---\n",
        "$$\\Large\n",
        "\\color{teal}{\\mathbf{A}}^{\\text{T}\\text{T}}\\,=\\, \\color{teal}{\\mathbf{A}}\n",
        "$$\n",
        "\n",
        "#### 🚀 This property plays a **central** role in several proofs in linear algebra."
      ],
      "metadata": {
        "id": "3nno2lOvVngj"
      }
    },
    {
      "cell_type": "markdown",
      "source": [
        "---\n",
        "### **example**\n",
        "$$\\Large\n",
        "\\left (        \\begin{bmatrix}\n",
        "    \\color{blue}{1} & \\color{teal}{5}\\\\ \\color{blue}{0}& \\color{teal}{6}\\\\\\color{blue}{2}&\\color{teal}{8}\\\\\\color{blue}{5}&\\color{teal}{3}\\\\ \\color{blue}{-2}&\\color{teal}{0}\n",
        "    \\end{bmatrix}^{\\mathbf{T}}\n",
        "\\right )^{\\mathbf{T}}\n",
        "\\, =\\, \n",
        "\\begin{bmatrix}\n",
        "    \\color{blue}{1} & \\color{blue}{0} & \\color{blue}{2} & \\color{blue}{5} & \\color{blue}{-2} \\\\\\color{teal}{5} & \\color{teal}{6}&\\color{teal}{8}&\\color{teal}{3} &\\color{teal}{0}\n",
        "    \\end{bmatrix}^{\\mathbf{T}}\n",
        "\\, = \\,\n",
        "    \\begin{bmatrix}\n",
        "    \\color{blue}{1} & \\color{teal}{5}\\\\ \\color{blue}{0}& \\color{teal}{6}\\\\\\color{blue}{2}&\\color{teal}{8}\\\\\\color{blue}{5}&\\color{teal}{3}\\\\ \\color{blue}{-2}&\\color{teal}{0}\n",
        "    \\end{bmatrix}\n",
        " $$"
      ],
      "metadata": {
        "id": "MMNuAZ74Vngj"
      }
    },
    {
      "cell_type": "markdown",
      "source": [
        "![green-divider](https://user-images.githubusercontent.com/7065401/52071924-c003ad80-2562-11e9-8297-1c6595f8a7ff.png)\n",
        "## **Using transpose to re-definition of symmetric and skew-symmetric matrices**"
      ],
      "metadata": {
        "id": "h9UR2rKGXoc4"
      }
    },
    {
      "cell_type": "markdown",
      "source": [
        "---\n",
        "#### **Review**\n",
        "\n",
        "<details>\n",
        "  <summary><b>Show previous illustration</b></summary>\n",
        "\n",
        "<p style=\"text-align:center;\"><img src = \"https://drive.google.com/uc?id=1RNuJ5Vyfq1VLbIaaU0Qm98XwqzBIgVK8\" width = \"550px\" height = \"300px\" />\n",
        "</details>"
      ],
      "metadata": {
        "id": "m55qFFCcZIxd"
      }
    },
    {
      "cell_type": "markdown",
      "source": [
        "\n",
        "So symmetric matrix means that it's mirrored across the diagonal and they skew symmetric matrix means that it's mirrored across the diagonal with assigned flip.\n"
      ],
      "metadata": {
        "id": "YAr4BE8_aalm"
      }
    },
    {
      "cell_type": "markdown",
      "source": [
        "### **Formal Definition of symmtric and skew-symmetric matrices**"
      ],
      "metadata": {
        "id": "7ov1YumUatKf"
      }
    },
    {
      "cell_type": "markdown",
      "source": [
        "$$\\Large\n",
        "\\begin{align}\n",
        "\\color{blue}{\\text{Symmetric: }\\,\\,\\mathbf{A}} \\,&= \\,\\color{blue}{\\mathbf{A}}^{\\text{T}}\\\\\n",
        "\\color{teal}{\\text{Skew-Symmetric: }\\,\\,\\mathbf{A}} \\,&= \\,\\color{red}{-}\\color{teal}{\\mathbf{A}}^{\\text{T}}\n",
        "\\end{align}\n",
        "$$"
      ],
      "metadata": {
        "id": "-lmlTlMIa5Pg"
      }
    },
    {
      "cell_type": "markdown",
      "source": [
        "\n",
        "<details>\n",
        "  <summary><b>Show explanation</b></summary>\n",
        "So now in the context of the Matrix transpose, we can define a symmetric matrix as being a matrix that equals its transpose.\n",
        "\n",
        "And a skewes symmetric matrix that equals its negative transpose.  So times minus one and then transpose.\n",
        "\n",
        "So that means that each corresponding column is the same thing as the corresponding row.  So in other words, the first column equals the first row. The second column equals the second row and so on for all the columns and all the rows.\n",
        "\n",
        "Similar story for a skew, symmetric matrix.\n",
        "</details>"
      ],
      "metadata": {
        "id": "4Erl3MuMar9k"
      }
    },
    {
      "cell_type": "markdown",
      "source": [
        "---\n",
        "### **Only square matrix can be symmetric and skew-symmetric**\n",
        "<details>\n",
        "  <summary><b>Show reasons</b></summary>\n",
        "\n",
        "Now the first column equals the first row. If you multiply that row by minus one.  The second column equals the negative of the second row.\n",
        "\n",
        "Now, when I first introduced you to a symmetric matrix and skew symmetric, I told you that symmetric\n",
        "\n",
        "matrices are defined only for square matrices where the number of rows is the same as the number of columns.\n",
        "\n",
        "And that should make sense.\n",
        "\n",
        "Now, given this definition of a symmetric matrix, because if A equals, it's transpose.\n",
        "\n",
        "So if both these sides of the equation are true, that can only happen if the matrices are the same\n",
        "\n",
        "size.\n",
        "\n",
        "And then M by N Matrix will only equal an N by M matrix when N and M are equal.\n",
        "\n",
        "In other words, when the matrix is square.\n",
        "</details>"
      ],
      "metadata": {
        "id": "a7T_xRjYcS0_"
      }
    },
    {
      "cell_type": "markdown",
      "source": [
        "![green-divider](https://user-images.githubusercontent.com/7065401/52071924-c003ad80-2562-11e9-8297-1c6595f8a7ff.png)\n",
        "## **Hermitian transpose of a matrix**"
      ],
      "metadata": {
        "id": "3SSjH7yVm9PS"
      }
    },
    {
      "cell_type": "markdown",
      "source": [
        "$$\\Large\n",
        "\\begin{bmatrix}\n",
        "1 & \\color{blue}{-1} \\color{magenta}{+} \\color{teal}{5i} & 0  \\\\\n",
        "-1 & -2&-4 \\\\\n",
        "\\color{magenta}{+} \\color{teal}{6i} & -4&\\color{blue}{5} \\color{orange}{-} \\color{teal}{2i}\n",
        "    \\end{bmatrix}^{\\mathbf{T}}\n",
        "\\, = \\,\n",
        "\\begin{bmatrix}\n",
        "1 & -1 & \\color{orange}{-} \\color{teal}{6i}  \\\\\n",
        "\\color{blue}{-1} \\color{orange}{-} \\color{teal}{5i}  & 1&-4 \\\\\n",
        "0 & -4&\\color{blue}{5} \\color{magenta}{+} \\color{teal}{2i}\n",
        "    \\end{bmatrix}\n",
        " $$\n",
        "\n",
        "\n",
        "##### 🔺 Notice the sign changes of each imaginary number even if it is a diagonal element."
      ],
      "metadata": {
        "id": "s1MUyRM1nL-G"
      }
    },
    {
      "cell_type": "markdown",
      "source": [
        "![green-divider](https://user-images.githubusercontent.com/7065401/52071924-c003ad80-2562-11e9-8297-1c6595f8a7ff.png)\n",
        "## **🔖 $\\color{blue}{\\textbf{ Practice: }}$ Matrix-transpose with Python**"
      ],
      "metadata": {
        "id": "2VvGataydBkH"
      }
    },
    {
      "cell_type": "markdown",
      "source": [
        "#### **Create random matrices**\n",
        "matrix = `numpy.array([ [row1], [row2],...[rown] ])`\n",
        "##### 🔺 each row is enlosed between \"[\" and \"]\" and the entire matrix is also enclosed by an outer set of \"[\" and \"]\""
      ],
      "metadata": {
        "id": "GvIbogs_dBkR"
      }
    },
    {
      "cell_type": "markdown",
      "source": [
        "#### **Transposing real matrices**\n",
        "`matrixA.T` or `numpy.transpose(matrixA)`\n",
        "\n",
        "\n"
      ],
      "metadata": {
        "id": "hzde0CVZdBkS"
      }
    },
    {
      "cell_type": "markdown",
      "source": [
        "#### **Transposing complex matrices**\n",
        "`matrix.conjugate().T`\n",
        "#### 🔥 Warning! Be carefule when transposing a complex matrix"
      ],
      "metadata": {
        "id": "JkQ9Cm8pgV1W"
      }
    },
    {
      "cell_type": "markdown",
      "source": [
        "##### **Transpose a complex matrix as a realmatrix**"
      ],
      "metadata": {
        "id": "GEcQ57AgkF86"
      }
    },
    {
      "cell_type": "markdown",
      "source": [
        "##### **Hermition Transpose a complex matrix as a complex conugate matrix**\n",
        "`comlex_matrix.conjugate().T`"
      ],
      "metadata": {
        "id": "Pa3fuBAAkSqv"
      }
    },
    {
      "cell_type": "markdown",
      "source": [
        "#### **Hermitian transpose of a matrix**"
      ],
      "metadata": {
        "id": "diKTOw9FSOGg"
      }
    },
    {
      "cell_type": "markdown",
      "source": [
        "##### 🔺 Notice the **sign** flip on the imaginary part of complex numbers"
      ],
      "metadata": {
        "id": "G7-ostxik6LJ"
      }
    }
  ]
}