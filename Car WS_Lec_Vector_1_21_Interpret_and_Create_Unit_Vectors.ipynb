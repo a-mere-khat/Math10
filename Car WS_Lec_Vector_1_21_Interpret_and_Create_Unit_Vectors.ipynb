{
  "nbformat": 4,
  "nbformat_minor": 0,
  "metadata": {
    "colab": {
      "provenance": [],
      "include_colab_link": true
    },
    "kernelspec": {
      "name": "python3",
      "display_name": "Python 3"
    },
    "language_info": {
      "name": "python"
    }
  },
  "cells": [
    {
      "cell_type": "markdown",
      "metadata": {
        "id": "view-in-github",
        "colab_type": "text"
      },
      "source": [
        "<a href=\"https://colab.research.google.com/github/a-mere-khat/Math10/blob/master/Car%20WS_Lec_Vector_1_21_Interpret_and_Create_Unit_Vectors.ipynb\" target=\"_parent\"><img src=\"https://colab.research.google.com/assets/colab-badge.svg\" alt=\"Open In Colab\"/></a>"
      ]
    },
    {
      "cell_type": "markdown",
      "source": [
        "![purple-divider](https://user-images.githubusercontent.com/7065401/52071927-c1cd7100-2562-11e9-908a-dde91ba14e59.png)\n",
        "# **$$ ⛳ \\textbf{  Interpret and Create Unit Vectors }⛳ $$**\n",
        "\n",
        "\n"
      ],
      "metadata": {
        "id": "Xl_Gvo7yCLtK"
      }
    },
    {
      "cell_type": "markdown",
      "source": [
        "![green-divider](https://user-images.githubusercontent.com/7065401/52071924-c003ad80-2562-11e9-8297-1c6595f8a7ff.png)\n",
        "## **Objectives** \n",
        "\n",
        "By the end of this lesson, you will:\n",
        "\n",
        "#### - Know what a unit vector is\n",
        "\n",
        "#### - Compute a unit vector \n"
      ],
      "metadata": {
        "id": "n87lWl45CLtL"
      }
    },
    {
      "cell_type": "markdown",
      "source": [
        "![green-divider](https://user-images.githubusercontent.com/7065401/52071924-c003ad80-2562-11e9-8297-1c6595f8a7ff.png)\n",
        "## **Review features of vectors**\n",
        "\n",
        "* ### Vector length is independent of vector angle or the orientation of the vector.\n",
        "\n",
        "* ### Different vectors can have different lengths, but the same orientation.\n",
        "\n",
        "* ### All vectors with the same orientation, so the same angle are related to each other by some scalar multiplication.  And that in turn means that you can create a **unit** vector in **the same direction** as some other vector.\n",
        "\n"
      ],
      "metadata": {
        "id": "uKwg4ajDdNxd"
      }
    },
    {
      "cell_type": "markdown",
      "source": [
        "![green-divider](https://user-images.githubusercontent.com/7065401/52071924-c003ad80-2562-11e9-8297-1c6595f8a7ff.png)\n",
        "## **Definition of a Unit Vector:**\n",
        "---\n",
        "### **The term unit in the context of a vector means that the vector has a length of one.**\n",
        "---\n",
        "### **Algebraic Definition**.\n",
        "\n",
        "### The vector or the scalar vector multiplication $\\mu\\mathbf{v}$ such that the magnitude of $\\lVert\\mu \\mathbf{v}\\rVert$ is equal to one.  Or  the length of the scaled version of this vector is exactly one.\n",
        "$$\\LARGE \\color{green}{\\mu}\\color{orange}{\\mathbf{v}}\\,\\, .s.t.\\,\\, \\lVert\\color{green}{\\mu} \\color{orange}{\\mathbf{v}}\\rVert \\,\\,=\\,\\, 1 $$"
      ],
      "metadata": {
        "id": "uS7-iQgEOUq6"
      }
    },
    {
      "cell_type": "markdown",
      "source": [
        "![green-divider](https://user-images.githubusercontent.com/7065401/52071924-c003ad80-2562-11e9-8297-1c6595f8a7ff.png)\n",
        "$$\\LARGE \\color{magenta}{\\text{How to choose }}\\color{green}{\\mu}? $$\n",
        "---"
      ],
      "metadata": {
        "id": "SVJNcZKkQIY5"
      }
    },
    {
      "cell_type": "markdown",
      "source": [
        "---\n",
        "$$\\LARGE   \\lVert\\color{green}{\\mu} \\color{orange}{\\mathbf{v}}\\rVert = 1$$ \\\\\n",
        "$$\\LARGE   \\color{green}{\\mu} \\lVert \\color{orange}{\\mathbf{v}}\\rVert = 1$$\n",
        "\n"
      ],
      "metadata": {
        "id": "0_or0mPEQgTV"
      }
    },
    {
      "cell_type": "markdown",
      "source": [
        "$$\\LARGE   \\color{green}{\\mu} \\,\\, = \\,\\, \\frac{1}{\\lVert \\color{orange}{\\mathbf{v}}\\rVert }$$"
      ],
      "metadata": {
        "id": "LC9dn76oReqO"
      }
    },
    {
      "cell_type": "markdown",
      "source": [
        "![green-divider](https://user-images.githubusercontent.com/7065401/52071924-c003ad80-2562-11e9-8297-1c6595f8a7ff.png)\n",
        "## **🔖 $\\color{blue}{\\textbf{ Practice: }}$ Compute and visualize unit vector**\n"
      ],
      "metadata": {
        "id": "t-rt0vrryiJY"
      }
    },
    {
      "cell_type": "code",
      "source": [],
      "metadata": {
        "id": "S9k8KD3Ylrh_"
      },
      "execution_count": null,
      "outputs": []
    }
  ]
}