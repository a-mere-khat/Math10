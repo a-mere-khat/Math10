{
  "nbformat": 4,
  "nbformat_minor": 0,
  "metadata": {
    "colab": {
      "provenance": [],
      "include_colab_link": true
    },
    "kernelspec": {
      "name": "python3",
      "display_name": "Python 3"
    },
    "language_info": {
      "name": "python"
    }
  },
  "cells": [
    {
      "cell_type": "markdown",
      "metadata": {
        "id": "view-in-github",
        "colab_type": "text"
      },
      "source": [
        "<a href=\"https://colab.research.google.com/github/a-mere-khat/Math10/blob/master/Car%20WS_Lec_Matrix_3_4_Matrix_vector_multiplications.ipynb\" target=\"_parent\"><img src=\"https://colab.research.google.com/assets/colab-badge.svg\" alt=\"Open In Colab\"/></a>"
      ]
    },
    {
      "cell_type": "markdown",
      "source": [
        "![purple-divider](https://user-images.githubusercontent.com/7065401/52071927-c1cd7100-2562-11e9-908a-dde91ba14e59.png)\n",
        "# **$$ ⛳ \\textbf{ Matrix-vector Multiplication  }⛳ $$**\n",
        "\n",
        "\n"
      ],
      "metadata": {
        "id": "RNFxe_SigFfh"
      }
    },
    {
      "cell_type": "markdown",
      "source": [
        "![green-divider](https://user-images.githubusercontent.com/7065401/52071924-c003ad80-2562-11e9-8297-1c6595f8a7ff.png)\n",
        "## **Objectives** \n",
        "\n",
        "<span style=\"font-family:Papyrus; color:red; font-size:4em;\">By the end of this lesson, you will:</span>\n",
        "\n",
        "\n",
        "#### $\\color{teal}{- \\text{Know why matrix-vector multiplication always produces a vector}}$\n",
        "####$\\color{violet}{-\\text{Know how the input vector and matrix determine the orientation and size of resultant vector.}}$\n",
        "####$\\color{orange}{-\\text{Understand the special role of symmetric matrices in matrix-vector multiplication.}}$\n"
      ],
      "metadata": {
        "id": "TYjFSFM_5hVw"
      }
    },
    {
      "cell_type": "markdown",
      "source": [
        "<details>\n",
        "  <summary><b>Explanation</b></summary>\n",
        "\n",
        "The rule is actually given right here.\n",
        "\n",
        "If you perform an operation on multiple matrices and then you apply some operation to all of those matrices.\n",
        "\n",
        "And now we just assume that the matrix multiplications are all valid.\n",
        "</details>"
      ],
      "metadata": {
        "id": "qsy4HuXSQB5N"
      }
    },
    {
      "cell_type": "markdown",
      "source": [
        "![green-divider](https://user-images.githubusercontent.com/7065401/52071924-c003ad80-2562-11e9-8297-1c6595f8a7ff.png)\n",
        "## **Link to slids for [Introduction to Concepts](https://drive.google.com/file/d/1cCQ6zGjF2z97Hx6Ziq4lUOWX_9Hk9j6w/view?usp=share_link)**"
      ],
      "metadata": {
        "id": "UphwVqnxZOK0"
      }
    },
    {
      "cell_type": "markdown",
      "source": [
        "![green-divider](https://user-images.githubusercontent.com/7065401/52071924-c003ad80-2562-11e9-8297-1c6595f8a7ff.png)\n",
        "## **🔖 $\\color{blue}{\\textbf{ Practice: }}$ Matrix-vector multiplication in Python**"
      ],
      "metadata": {
        "id": "NV82cljN1qeq"
      }
    },
    {
      "cell_type": "markdown",
      "source": [
        "###`numpy.random.randint(low, high=None, size=None, dtype=int)`\n",
        "Return random integers from low (inclusive) to high (exclusive).\n",
        "\n",
        "Return random integers from the “discrete uniform” distribution of the specified dtype in the “half-open” interval [low, high). If high is None (the default), then results are from [0, low).\n",
        "\n",
        "<details>\n",
        "  <summary><b>Parameters</b></summary>\n",
        "\n",
        "**Parameters:**\n",
        "  **low:** int or array-like of ints\n",
        "  Lowest (signed) integers to be drawn from the distribution (unless high=None, in which case this parameter is one above the highest such integer).\n",
        "\n",
        "  **high:** int or array-like of ints, optional\n",
        "    If provided, one above the largest (signed) integer to be drawn from the distribution (see above for behavior if high=None). If array-like, must contain integer values\n",
        "\n",
        "  **size** int or tuple of ints, optional\n",
        "    Output shape. If the given shape is, e.g., (m, n, k), then m * n * k samples are drawn. Default is None, in which case a single value is returned.\n",
        "\n",
        "  **dtype** dtype, optional\n",
        "    Desired dtype of the result. Byteorder must be native. The default value is int.\n",
        "\n",
        "**Returns**\n",
        "  **out:** int or ndarray of ints\n",
        "    size-shaped array of random integers from the appropriate distribution, or a single such random int if size not provided.\n",
        "    \n",
        "</details>"
      ],
      "metadata": {
        "id": "EHCLkaRIdaI2"
      }
    },
    {
      "cell_type": "markdown",
      "source": [
        "### **Symmetric Matrix and vector multiplication**"
      ],
      "metadata": {
        "id": "d82q4Rrn1y32"
      }
    },
    {
      "cell_type": "markdown",
      "source": [
        "### **Non-Symmetric Matrix and vector multiplication**"
      ],
      "metadata": {
        "id": "P405c3_h193R"
      }
    },
    {
      "cell_type": "code",
      "source": [],
      "metadata": {
        "id": "41J4j55IPP3O"
      },
      "execution_count": null,
      "outputs": []
    }
  ]
}