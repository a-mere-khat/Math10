{
  "nbformat": 4,
  "nbformat_minor": 0,
  "metadata": {
    "colab": {
      "provenance": [],
      "include_colab_link": true
    },
    "kernelspec": {
      "name": "python3",
      "display_name": "Python 3"
    },
    "language_info": {
      "name": "python"
    }
  },
  "cells": [
    {
      "cell_type": "markdown",
      "metadata": {
        "id": "view-in-github",
        "colab_type": "text"
      },
      "source": [
        "<a href=\"https://colab.research.google.com/github/a-mere-khat/Math10/blob/master/Car%20WS_Lec_Matrix_3_3_Order_of_Operations_in_Matrix_Multiplication.ipynb\" target=\"_parent\"><img src=\"https://colab.research.google.com/assets/colab-badge.svg\" alt=\"Open In Colab\"/></a>"
      ]
    },
    {
      "cell_type": "markdown",
      "source": [
        "![purple-divider](https://user-images.githubusercontent.com/7065401/52071927-c1cd7100-2562-11e9-908a-dde91ba14e59.png)\n",
        "# **$$ ⛳ \\textbf{ Order of Operation in Matrix Multiplication  }⛳ $$**\n",
        "\n",
        "\n"
      ],
      "metadata": {
        "id": "RNFxe_SigFfh"
      }
    },
    {
      "cell_type": "markdown",
      "source": [
        "![green-divider](https://user-images.githubusercontent.com/7065401/52071924-c003ad80-2562-11e9-8297-1c6595f8a7ff.png)\n",
        "## **Objectives** \n",
        "\n",
        "<span style=\"font-family:Papyrus; color:red; font-size:4em;\">By the end of this lesson, you will:</span>\n",
        "\n",
        "\n",
        "#### - $\\color{teal}{\\text{Know the strange rule about reversing matrix order when applying an operation to multiplied matrices}}$\n",
        "#### - $\\color{violet}{\\text{Remember: AH HA!}}⟹ (\\color{violet}{\\textbf{AH}})^{\\text{T}}=\\color{violet}{\\textbf{H}}^{\\text{T}}\\color{violet}{\\textbf{A}}^{\\text{T}}$\n"
      ],
      "metadata": {
        "id": "TYjFSFM_5hVw"
      }
    },
    {
      "cell_type": "markdown",
      "source": [
        "<details>\n",
        "  <summary><b>Introduction</b></summary>\n",
        "\n",
        "The rule is actually given right here.\n",
        "\n",
        "If you perform an operation on multiple matrices and then you apply some operation to all of those matrices.\n",
        "\n",
        "And now we just assume that the matrix multiplications are all valid.\n",
        "</details>"
      ],
      "metadata": {
        "id": "qsy4HuXSQB5N"
      }
    },
    {
      "cell_type": "markdown",
      "source": [
        "![green-divider](https://user-images.githubusercontent.com/7065401/52071924-c003ad80-2562-11e9-8297-1c6595f8a7ff.png)\n",
        "## **Proof of Order of operations: $(\\color{violet}{\\textbf{AH}})^{\\text{T}}=\\color{violet}{\\textbf{H}}^{\\text{T}}\\color{violet}{\\textbf{A}}^{\\text{T}}$**\n",
        "\n"
      ],
      "metadata": {
        "id": "n_HAtl-K5hVy"
      }
    },
    {
      "cell_type": "markdown",
      "source": [
        "$$\n",
        "\\Large\n",
        "\\begin{align}\n",
        "&\\left (\n",
        "\\begin{bmatrix}\n",
        "\\color{blue}{a} & \\color{blue}{b} \\\\\n",
        " \\color{blue}{c} & \\color{blue}{d} \n",
        "\\end{bmatrix} \n",
        "\\begin{bmatrix}\n",
        "\\color{teal}{e} & \\color{teal}{f} \\\\\n",
        " \\color{teal}{g} & \\color{teal}{h} \n",
        "\\end{bmatrix} \n",
        "\\right )^{\\text{T}}\n",
        "\\, = \\,\n",
        "\\begin{bmatrix}\n",
        "\\color{blue}{a}\\color{teal}{e}+\\color{blue}{b}\\color{teal}{g} & \\color{blue}{a}\\color{teal}{f}+\\color{blue}{b}\\color{teal}{h} \\\\\n",
        "\\color{blue}{c}\\color{teal}{e}+\\color{blue}{d}\\color{teal}{g} & \\color{blue}{c}\\color{teal}{f}+\\color{blue}{d}\\color{teal}{h} \n",
        "\\end{bmatrix}^{\\text{T}}\n",
        "\\,&=\\,\n",
        "\\begin{bmatrix}\n",
        "\\color{blue}{a}\\color{teal}{e}+\\color{blue}{b}\\color{teal}{g} & \\color{blue}{c}\\color{teal}{e}+\\color{blue}{d}\\color{teal}{g} \\\\\n",
        "\\color{blue}{a}\\color{teal}{f}+\\color{blue}{b}\\color{teal}{h} & \\color{blue}{c}\\color{teal}{f}+\\color{blue}{d}\\color{teal}{h} \n",
        "\\end{bmatrix} \\\\\\\\\n",
        "&\\quad\\begin{bmatrix}\n",
        "\\color{teal}{e} & \\color{teal}{f} \\\\\n",
        " \\color{teal}{g} & \\color{teal}{h} \n",
        "\\end{bmatrix} \n",
        "\\begin{bmatrix}\n",
        "\\color{blue}{a} & \\color{blue}{b} \\\\\n",
        " \\color{blue}{c} & \\color{blue}{d} \n",
        "\\end{bmatrix} \n",
        "\\,&=\\,\n",
        "\\begin{bmatrix}\n",
        "\\color{blue}{a}\\color{teal}{e}+\\color{blue}{b}\\color{teal}{g} & \\color{blue}{c}\\color{teal}{e}+\\color{blue}{d}\\color{teal}{g} \\\\\n",
        "\\color{blue}{a}\\color{teal}{f}+\\color{blue}{b}\\color{teal}{h} & \\color{blue}{c}\\color{teal}{f}+\\color{blue}{d}\\color{teal}{h} \n",
        "\\end{bmatrix}\n",
        "\\end{align}\n",
        "$$"
      ],
      "metadata": {
        "id": "eOeNhM_y7eQF"
      }
    },
    {
      "cell_type": "markdown",
      "source": [
        "![green-divider](https://user-images.githubusercontent.com/7065401/52071924-c003ad80-2562-11e9-8297-1c6595f8a7ff.png)\n",
        "## **🔖 $\\color{blue}{\\textbf{ Practice: }}$Matrix Order of operations Example in Python**\n",
        "\n",
        "$$(\\color{violet}{\\textbf{LIVE}})^{\\text{T}}\\Longrightarrow\\color{violet}{\\textbf{E}}^{\\text{T}}\\color{violet}{\\textbf{V}}^{\\text{T}}\\color{violet}{\\textbf{I}}^{\\text{T}}\\color{violet}{\\textbf{L}}^{\\text{T}}$$"
      ],
      "metadata": {
        "id": "MCzPq-3tArCE"
      }
    },
    {
      "cell_type": "markdown",
      "source": [
        "<details>\n",
        "  <summary><b>Explanation of computer rounding error</b></summary>\n",
        "  \n",
        "So there's another one of these cases where initially it looks like the numbers aren't zero because there are certainly non-zero numbers before the answers are round.\n",
        "\n",
        "But when you look at the scale, the order of magnitude of -15, you can see it's tiny.\n",
        "\n",
        "These are basically just computer rounding errors.\n",
        "\n",
        "So this is essentially can be considered the zero matrix.\n",
        "</details>"
      ],
      "metadata": {
        "id": "St7hr-K2DdRN"
      }
    }
  ]
}