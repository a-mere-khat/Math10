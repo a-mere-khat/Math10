{
  "nbformat": 4,
  "nbformat_minor": 0,
  "metadata": {
    "colab": {
      "provenance": [],
      "include_colab_link": true
    },
    "kernelspec": {
      "name": "python3",
      "display_name": "Python 3"
    },
    "language_info": {
      "name": "python"
    }
  },
  "cells": [
    {
      "cell_type": "markdown",
      "metadata": {
        "id": "view-in-github",
        "colab_type": "text"
      },
      "source": [
        "<a href=\"https://colab.research.google.com/github/a-mere-khat/Math10/blob/master/Car%20WS_Lec_Matrix_2_7_Broadcasting_matrix_arithmetic.ipynb\" target=\"_parent\"><img src=\"https://colab.research.google.com/assets/colab-badge.svg\" alt=\"Open In Colab\"/></a>"
      ]
    },
    {
      "cell_type": "markdown",
      "source": [
        "![purple-divider](https://user-images.githubusercontent.com/7065401/52071927-c1cd7100-2562-11e9-908a-dde91ba14e59.png)\n",
        "# **$$ ⛳ \\textbf{ Broadcasting matrix arithmetic }⛳ $$**\n",
        "\n",
        "\n"
      ],
      "metadata": {
        "id": "RNFxe_SigFfh"
      }
    },
    {
      "cell_type": "markdown",
      "source": [
        "![green-divider](https://user-images.githubusercontent.com/7065401/52071924-c003ad80-2562-11e9-8297-1c6595f8a7ff.png)\n",
        "## **Objectives** \n",
        "\n",
        "<span style=\"font-family:Papyrus; color:red; font-size:4em;\">By the end of this lesson, you will:</span>\n",
        "\n",
        "\n",
        "#### - $\\color{teal}{\\text{Know how to use \"broadcasting\" to do operations that ae not traditionally valid}}$\n",
        "#### - $\\color{violet}{\\text{Know how to implement broadcasting in Python}}$\n"
      ],
      "metadata": {
        "id": "jSIXQHdAMrgn"
      }
    },
    {
      "cell_type": "markdown",
      "source": [
        "<details>\n",
        "  <summary><b>Explanation</b></summary>\n",
        "\n",
        "* Broadcasting is an operation in modern computer based linear algebra that didn't really exist in traditional or more abstract and linear algebra.  And broadcasting is something you do with Matrix arithmetic.  So interestingly, broadcasting is really not a valid in the traditional sense of linear algebra.\n",
        "\n",
        "* Broadcasting is quite useful in applied linear algebra, machine learning, used all the time in deep learning.[link text](https://)\n",
        "</details>"
      ],
      "metadata": {
        "id": "qsy4HuXSQB5N"
      }
    },
    {
      "cell_type": "markdown",
      "source": [
        "![green-divider](https://user-images.githubusercontent.com/7065401/52071924-c003ad80-2562-11e9-8297-1c6595f8a7ff.png)\n",
        "## **Conceptual Illustration of Broadcasting Arithmetic**\n"
      ],
      "metadata": {
        "id": "nu8VhKVf5Cb-"
      }
    },
    {
      "cell_type": "markdown",
      "source": [
        "\n",
        "<details>\n",
        "  <summary><b>Show previous illustration</b></summary>\n",
        "\n",
        "<p style=\"text-align:center;\"><img src = \"https://drive.google.com/uc?id=1x3fIftjyvuHtSbAGYAV6vIRYOBlHbfxc\" width = \"550px\" height = \"300px\" />\n",
        "</details>\n"
      ],
      "metadata": {
        "id": "TNMxfg1P7936"
      }
    },
    {
      "cell_type": "markdown",
      "source": [
        "<details>\n",
        "  <summary><b>Explanation</b></summary>\n",
        "\n",
        "* For a matrix that it has $M \\times N$ Matrix, there's N columns. So you take this one column vector and you repeat it exactly $N - 1$ time.  So there's N in total.\n",
        "\n",
        "* For a matrix that it has $M \\times N$ Matrix, there's M rows. So you take this one row vector and you repeat it exactly $M -1$ time.  So there's $M$ in total.\n",
        "\n",
        "* This procedure applies for all four of the basic arithmetic operations.\n",
        "\n",
        "</details>"
      ],
      "metadata": {
        "id": "HfF47NNqBA_-"
      }
    },
    {
      "cell_type": "markdown",
      "source": [
        "![green-divider](https://user-images.githubusercontent.com/7065401/52071924-c003ad80-2562-11e9-8297-1c6595f8a7ff.png)\n",
        "## **🔖 $\\color{blue}{\\textbf{ Practice: }}$ Broadcasting matrix arithmetic in python**"
      ],
      "metadata": {
        "id": "NH51oq2NE2zw"
      }
    },
    {
      "cell_type": "markdown",
      "source": [
        "### **Creating a matrix using `numpy.reshape()`**\n",
        "\n",
        "`numpy.reshape(a, newshape, order='C')`\n",
        "Gives a new shape to an array without changing its data.\n",
        "<details>\n",
        "  <summary><b>Explanation of parameters</b></summary>\n",
        "\n",
        "**Parameters:**\n",
        "\n",
        "* **a**: array_like, \n",
        "    Array to be reshaped.\n",
        "\n",
        "* **newshape:** int or tuple of ints\n",
        "\n",
        "  The new shape should be compatible with the original shape. If an integer, then the result will be a 1-D array of that length. One shape dimension can be -1. In this case, the value is inferred from the length of the array and remaining dimensions.\n",
        "\n",
        "* **order{‘C’, ‘F’, ‘A’}**, optional\n",
        "\n",
        "  **F:** create matrix in terms of columns \n",
        "\n",
        "  **C:** create matrix in terms of rows. \n",
        "  \n",
        "  Read the elements of a using this index order, and place the elements into the reshaped array using this index order. ‘C’ means to read / write the elements using C-like index order, with the last axis index changing fastest, back to the first axis index changing slowest. ‘F’ means to read / write the elements using Fortran-like index order, with the first index changing fastest, and the last index changing slowest. Note that the ‘C’ and ‘F’ options take no account of the memory layout of the underlying array, and only refer to the order of indexing. ‘A’ means to read / write the elements in Fortran-like index order if a is Fortran contiguous in memory, C-like order otherwise.\n",
        "\n",
        "**Returns:**\n",
        "  reshaped_arrayndarray\n",
        "  This will be a new view object if possible; otherwise, it will be a copy.\n",
        "\n",
        "</details>"
      ],
      "metadata": {
        "id": "H0eQRnVIFyHh"
      }
    },
    {
      "cell_type": "markdown",
      "source": [
        "#### **Braodcasting on the rows**"
      ],
      "metadata": {
        "id": "EOj61CEZI-Fr"
      }
    },
    {
      "cell_type": "markdown",
      "source": [
        "#### **Broadcasting on the columns**"
      ],
      "metadata": {
        "id": "c-3M1cVOJDW_"
      }
    }
  ]
}