{
  "nbformat": 4,
  "nbformat_minor": 0,
  "metadata": {
    "colab": {
      "provenance": [],
      "include_colab_link": true
    },
    "kernelspec": {
      "name": "python3",
      "display_name": "Python 3"
    },
    "language_info": {
      "name": "python"
    }
  },
  "cells": [
    {
      "cell_type": "markdown",
      "metadata": {
        "id": "view-in-github",
        "colab_type": "text"
      },
      "source": [
        "<a href=\"https://colab.research.google.com/github/a-mere-khat/Math10/blob/master/Car%20WS_Lec_Matrix_2_3_Matrix_Addition_and_Subtraction.ipynb\" target=\"_parent\"><img src=\"https://colab.research.google.com/assets/colab-badge.svg\" alt=\"Open In Colab\"/></a>"
      ]
    },
    {
      "cell_type": "markdown",
      "source": [
        "![purple-divider](https://user-images.githubusercontent.com/7065401/52071927-c1cd7100-2562-11e9-908a-dde91ba14e59.png)\n",
        "# **$$ ⛳ \\textbf{  Matrix Addition and Subtraction }⛳ $$**\n",
        "\n",
        "\n"
      ],
      "metadata": {
        "id": "RNFxe_SigFfh"
      }
    },
    {
      "cell_type": "markdown",
      "source": [
        "![green-divider](https://user-images.githubusercontent.com/7065401/52071924-c003ad80-2562-11e9-8297-1c6595f8a7ff.png)\n",
        "## **Objectives** \n",
        "\n",
        "<span style=\"font-family:Papyrus; color:red; font-size:4em;\">By the end of this lesson, you will:</span>\n",
        "\n",
        "\n",
        "#### - $\\color{teal}{\\text{Know how to add and subtract matrices}}$\n",
        "\n",
        "#### - $\\color{violet}{\\text{Know how to add and subtract matrices}}$"
      ],
      "metadata": {
        "id": "jSIXQHdAMrgn"
      }
    },
    {
      "cell_type": "markdown",
      "source": [
        "![green-divider](https://user-images.githubusercontent.com/7065401/52071924-c003ad80-2562-11e9-8297-1c6595f8a7ff.png)\n",
        "## **Matrix Addition**\n"
      ],
      "metadata": {
        "id": "nu8VhKVf5Cb-"
      }
    },
    {
      "cell_type": "markdown",
      "source": [
        "$$\\Large \n",
        "\\begin{bmatrix}\n",
        "\\color{orange}{1} & \\color{orange}{2} \\\\\n",
        "\\color{orange}{3} & \\color{orange}{0}\n",
        "\\end{bmatrix}\n",
        "\\, + \\,\n",
        "\\begin{bmatrix}\n",
        "\\color{teal}{0} & \\color{teal}{4} \\\\\n",
        "\\color{teal}{4} & \\color{teal}{2}\n",
        "\\end{bmatrix}\n",
        "\\, =\\,\n",
        "\\begin{bmatrix}\n",
        "\\color{violet}{1} & \\color{violet}{6} \\\\\n",
        "\\color{violet}{7} & \\color{violet}{2}\n",
        "\\end{bmatrix}\n",
        " $$"
      ],
      "metadata": {
        "id": "QmCxsUqaz85x"
      }
    },
    {
      "cell_type": "markdown",
      "source": [
        "<details>\n",
        "  <summary><b>Explanation</b></summary>\n",
        "  \n",
        "Now, the first thing to know about matrix addition and subtraction is that it is defined only for two matrices that have the same number of elements.\n",
        "\n",
        "So both $M$ by $N$ and then you simply add or subtract all of the corresponding elements in the matrices.\n",
        "\n",
        "So for example, this matrix plus this matrix is one plus zero is one, two plus four is six and so on.\n",
        "\n",
        "And so you can see the resulting matrix is just all the individual corresponding elements and the two matrices sum together.\n",
        "\n",
        "And also I keep describing this in terms of two matrices.\n",
        "\n",
        "There can be more matrices.\n",
        "\n",
        "You can add **as many matrices** as you like as long as they have the same size.\n",
        "</details>"
      ],
      "metadata": {
        "id": "YLw-5IrrzW0e"
      }
    },
    {
      "cell_type": "markdown",
      "source": [
        "![green-divider](https://user-images.githubusercontent.com/7065401/52071924-c003ad80-2562-11e9-8297-1c6595f8a7ff.png)\n",
        "## **Matrix Sutraction**\n"
      ],
      "metadata": {
        "id": "JDhD2vOm5NnP"
      }
    },
    {
      "cell_type": "markdown",
      "source": [
        "$$\\Large \n",
        "\\begin{bmatrix}\n",
        "\\color{orange}{1} & \\color{orange}{2} & \\color{orange}{-3}\\\\\n",
        "\\color{orange}{3} & \\color{orange}{0} & \\color{orange}{-2}\n",
        "\\end{bmatrix}\n",
        "\\, - \\,\n",
        "\\begin{bmatrix}\n",
        "\\color{teal}{0} & \\color{teal}{4} & \\color{teal}{-3}\\\\\n",
        "\\color{teal}{4} & \\color{teal}{2}& \\color{teal}{2}\n",
        "\\end{bmatrix}\n",
        "\\, =\\,\n",
        "\\begin{bmatrix}\n",
        "\\color{violet}{1} & \\color{violet}{-2} & \\color{violet}{0}\\\\\n",
        "\\color{violet}{-1} & \\color{violet}{-2}& \\color{violet}{-4}\n",
        "\\end{bmatrix}\n",
        " $$"
      ],
      "metadata": {
        "id": "NqmtBJQk5Nna"
      }
    },
    {
      "cell_type": "markdown",
      "source": [
        "Here's an example of subtracting a matrix, and there's nothing really particularly tricky about subtraction,\n",
        "\n",
        "But you just have to be mindful of careless arithmetic mistakes.  $\\color{red}{\\textbf{don't forget the \"minuses\"}}$."
      ],
      "metadata": {
        "id": "Y6OIfU5b5jQg"
      }
    },
    {
      "cell_type": "markdown",
      "source": [
        "![green-divider](https://user-images.githubusercontent.com/7065401/52071924-c003ad80-2562-11e9-8297-1c6595f8a7ff.png)\n",
        "## **Matrix Addition: commutative and assosiative**\n"
      ],
      "metadata": {
        "id": "mchJL8MV6hAz"
      }
    },
    {
      "cell_type": "markdown",
      "source": [
        "$$\\Large\n",
        "\\begin{align}\n",
        "\\color{blue}{\\textbf{A}}\\, +\\, \\color{cyan}{\\textbf{B}}  &\\, =\\,\\color{cyan}{\\textbf{B}}\\, + \\, \\color{blue}{\\textbf{A}} \\\\\n",
        "\\color{blue}{\\textbf{A}}\\, +\\, (\\color{cyan}{\\textbf{B}}\\,+\\, \\color{orange}{\\textbf{C}})   &\\, =\\,(\\color{blue}{\\textbf{A}}\\, +\\, \\color{cyan}{\\textbf{B}})\\,+\\, \\color{orange}{\\textbf{C}}\n",
        "\\end{align}\n",
        "$$\n",
        "\n",
        "* Matrix addition is commutative, and also associative\n",
        "\n",
        "#### ❗⚠❗: These two rules **seem obvious** from the perspective of normal arithmetic, but you'll see that when we get to matrix multiplication, these rules can **break down.**"
      ],
      "metadata": {
        "id": "eNjiGucS6y_V"
      }
    },
    {
      "cell_type": "markdown",
      "source": [
        "![green-divider](https://user-images.githubusercontent.com/7065401/52071924-c003ad80-2562-11e9-8297-1c6595f8a7ff.png)\n",
        "## **\"Shifting\" a matrix away from \"degeneracy\"**"
      ],
      "metadata": {
        "id": "M0VqVPYp9VWh"
      }
    },
    {
      "cell_type": "markdown",
      "source": [
        "$$\\Large \n",
        "\\begin{bmatrix}\n",
        "\\color{orange}{1} & \\color{blue}{2} \\\\\n",
        "\\color{blue}{2} & \\color{orange}{4}\n",
        "\\end{bmatrix}\n",
        "\\, + \\,\n",
        " \\color{teal}{3}\\begin{bmatrix}\n",
        "\\color{teal}{1} & \\color{teal}{0} \\\\\n",
        "\\color{teal}{0} & \\color{teal}{1}\n",
        "\\end{bmatrix}\n",
        "\\, =\\,\n",
        "\\begin{bmatrix}\n",
        "\\color{violet}{4} & \\color{blue}{2} \\\\\n",
        "\\color{blue}{2} & \\color{violet}{7}\n",
        "\\end{bmatrix}\n",
        " $$\n",
        "\\\n",
        " $$\\Large\n",
        "\\color{blue}{\\textbf{A}}\\, +\\, \\color{teal}{\\lambda\\textbf{I}}  \\, =\\,\\color{violet}{\\textbf{C}}\n",
        "$$"
      ],
      "metadata": {
        "id": "XPavUThqAKqU"
      }
    },
    {
      "cell_type": "markdown",
      "source": [
        "<details>\n",
        "  <summary><b>Explanation</b></summary>\n",
        "* One interesting use of Matrix Edition is to shift a matrix by adding a **scaled version** of the identity matrix back onto the matrix.\n",
        "\n",
        "* More generally, shifting can be written as this kind of expression of adding to a matrix, some scalar lambda times, the identity matrix, and that gives us a new version of this matrix.\n",
        "\n",
        "* So in the above, we add to the matrix $\\mathbf{A}$ to get $\\mathbf{C}$, some scaled version of the identity matrix $\\lambda\\mathbf{I}$ and you'll notice that it only changes the **diagonal** elements but **doesn't** change the **off diagonal** elements. \n",
        "\n",
        "* Shifting has a geometric interpretation, which is to inflate a matrix or to push it away from being a degenerate plane towards being a sphere.\n",
        "\n",
        "For this reason, shifting a matrix is a common way to **regularize a matrix** that makes it easier to work with in machine learning applications.\n",
        "\n",
        "We will have more to say about matrix shifting and regularization in later sections of this course.  We will discuss about the practical implications of shifting a matrix for machine learning and other multivariate decomposition techniques.\n",
        "</details>"
      ],
      "metadata": {
        "id": "0CohYCEd9PHp"
      }
    },
    {
      "cell_type": "markdown",
      "source": [
        "### **Why can we only shift a square matrix?**"
      ],
      "metadata": {
        "id": "XxP5k_4nB-Xy"
      }
    },
    {
      "cell_type": "markdown",
      "source": [
        "![green-divider](https://user-images.githubusercontent.com/7065401/52071924-c003ad80-2562-11e9-8297-1c6595f8a7ff.png)\n",
        "## **🔖 $\\color{blue}{\\textbf{ Practice: }}$Matrix addition and subtraction with Python**"
      ],
      "metadata": {
        "id": "JdOmDI8BCJLP"
      }
    },
    {
      "cell_type": "markdown",
      "source": [
        "#### **Create random matrices**"
      ],
      "metadata": {
        "id": "flLwr1D7CWRB"
      }
    },
    {
      "cell_type": "markdown",
      "source": [
        "#### **What additions and subtrations can we perform with matrices?**\n",
        "\n",
        "\n"
      ],
      "metadata": {
        "id": "o3c1JxXeCg3x"
      }
    },
    {
      "cell_type": "markdown",
      "source": [
        "#### **Which matrix can be shifted?**"
      ],
      "metadata": {
        "id": "LIZWEckpDBHs"
      }
    }
  ]
}