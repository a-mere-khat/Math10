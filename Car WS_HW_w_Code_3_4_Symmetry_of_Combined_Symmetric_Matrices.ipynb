{
  "nbformat": 4,
  "nbformat_minor": 0,
  "metadata": {
    "colab": {
      "provenance": [],
      "include_colab_link": true
    },
    "kernelspec": {
      "name": "python3",
      "display_name": "Python 3"
    }
  },
  "cells": [
    {
      "cell_type": "markdown",
      "metadata": {
        "id": "view-in-github",
        "colab_type": "text"
      },
      "source": [
        "<a href=\"https://colab.research.google.com/github/a-mere-khat/Math10/blob/master/Car%20WS_HW_w_Code_3_4_Symmetry_of_Combined_Symmetric_Matrices.ipynb\" target=\"_parent\"><img src=\"https://colab.research.google.com/assets/colab-badge.svg\" alt=\"Open In Colab\"/></a>"
      ]
    },
    {
      "cell_type": "markdown",
      "source": [
        "![purple-divider](https://user-images.githubusercontent.com/7065401/52071927-c1cd7100-2562-11e9-908a-dde91ba14e59.png)\n",
        "\n",
        "# **$$ ⛳ \\textbf{ Symmetry of Combined Symmetric Matrices }⛳ $$**\n"
      ],
      "metadata": {
        "id": "ha6K8qTjtRxn"
      }
    },
    {
      "cell_type": "markdown",
      "source": [
        "![green-divider](https://user-images.githubusercontent.com/7065401/52071924-c003ad80-2562-11e9-8297-1c6595f8a7ff.png)\n",
        "## **Review:**\n",
        "\n",
        "You have learned about multiplying and adding matrices in differen ways and their properties, including stadard and Hadamard multiplications\n",
        "\n",
        "You have learned about symmetric matrices: matrices that equal their own transpose.\n",
        "Symmetric matrices are really important in statistics and machine learning and multivariate data analysis.\n"
      ],
      "metadata": {
        "id": "XVcXL1A9jBur"
      }
    },
    {
      "cell_type": "markdown",
      "source": [
        "![green-divider](https://user-images.githubusercontent.com/7065401/52071924-c003ad80-2562-11e9-8297-1c6595f8a7ff.png)\n",
        "## **Objective:**"
      ],
      "metadata": {
        "id": "I9CE5XX_VPb_"
      }
    },
    {
      "cell_type": "markdown",
      "source": [
        "####  **1.** To explore what happens when you combine two symmetric matrices?\n",
        "\n",
        "####  **2.** To experically answer the question \"is the result of combining two symmetric matrices also a symmetric matrix?\"\n",
        "\n",
        "#### **3.** To figure out some rules, some principles of linear algebra based on the coding exercise and experiments that you're doing here.\n",
        "\n",
        "#### 🎈 **Your experimental result turns out to be really important in multivariate data analysis, dimensionality reduction and source separation, because it's an important distinction between Eigen, the composition of one symmetric matrix versus two symmetric matrices.**\n",
        "\n",
        "\n",
        "#### ⛽ There are many resources for writing text in markdown and mathematics typesets in latex.  Here is one for matrix\n",
        "[How to write matrices in Latex ?](https://www.math-linux.com/latex-26/faq/latex-faq/article/how-to-write-matrices-in-latex-matrix-pmatrix-bmatrix-vmatrix-vmatrix)\n",
        "\n",
        "[Markdown Cheatsheet.]( https://github.com/adam-p/markdown-here/wiki/Markdown-Cheatsheet)\n",
        "\n",
        "🚥 But keep in mind that these numerical demonstrations in a couple of examples are not formal mathematical proofs, and these are not substitutes for formal mathematical proofs. These are just really great ways to help you internalize the concepts."
      ],
      "metadata": {
        "id": "smTDm7aQ8Fwh"
      }
    },
    {
      "cell_type": "markdown",
      "source": [
        "![green-divider](https://user-images.githubusercontent.com/7065401/52071924-c003ad80-2562-11e9-8297-1c6595f8a7ff.png)\n",
        "## **🔖 TODOs**\n"
      ],
      "metadata": {
        "id": "IKMzqea07ufX"
      }
    },
    {
      "cell_type": "markdown",
      "source": [
        "---\n",
        "### **$\\color{brown}{\\textbf{TODO 1: }}$ Propose your Hypothesis**\n",
        "\n",
        "#### What would be your rules if the resultant matrix after addition and multiplications of two symmetric matrices is still symmetric?\n"
      ],
      "metadata": {
        "id": "aF2HoZk7Z1Av"
      }
    },
    {
      "cell_type": "markdown",
      "source": [
        "---\n",
        "### **$\\color{brown}{\\textbf{TODO 2: }}$ Create Python Code for the experiment** \n",
        "\n"
      ],
      "metadata": {
        "id": "fVPtMgktNzsd"
      }
    },
    {
      "cell_type": "markdown",
      "source": [
        "#### **1.** Generate two symmetric matrices.\n",
        "\n",
        "##### ✅ **$\\color{darkorange}{\\textbf{There are many different ways to create a symmetric matrices and a set of random numbers.}}$**\n",
        "\n",
        "##### 🎨 $\\color{darkorange}{\\textbf{Tip: Verify that your matrices are indeed symmetric before proceed.}}$ \n",
        "##### 🎨 $\\color{darkorange}{\\textbf{Tip: Since you will need to explore to find rules, you might want to soft code the dimentions of the matrices.}}$ \n",
        "\n",
        "#### **2.** Compute the sum, standard matrix multiplication, and Hadamard multiplication of the two matrices..\n",
        "\n",
        "##### 🎨 $\\color{darkorange}{\\textbf{ TIP: print to test your code with a small sized and known outcome to verify your algorithm.}}$ \n",
        "\n",
        "#### **3.** Write code to determine whether the resulting matrices from these different operations, are still symmetric.\n",
        "\n",
        "#####  ✅ $\\color{darkorange}{\\textbf{ TIP: There are many different ways to verify if two quantities are equal but do take into consideration of a computer precision in your code.}}$ \n",
        "\n",
        "#### **4.** Display statement(s) about your results.\n",
        "#### **5.** Once you verified your code, create an user interface using the form fields for the dimentions of the matrices.\n"
      ],
      "metadata": {
        "id": "le-DzREwuscw"
      }
    },
    {
      "cell_type": "markdown",
      "source": [
        "---\n",
        "### **$\\color{brown}{\\textbf{TODO 3: }}$ Conduct Emperical Test of Your Hypothesis (the resultant matrix is symmetry)**\n",
        "\n",
        "#### **1.** Copy the code for the experiment above.\n",
        "#### **2.** Initialize a counter for each of your rule.\n",
        "#### **3.** Add a for loop of over 100,000 times to repeat the experiment and count how many times your rules were violated."
      ],
      "metadata": {
        "id": "i42_aCKQDqY9"
      }
    },
    {
      "cell_type": "markdown",
      "source": [
        "---\n",
        "### **$\\color{brown}{\\textbf{TODO 4: }}$ Explore the properties of the resultant none-symmtric matrix.)**\n",
        "\n",
        "#### **1.** Work through the problem by hand (or use Python package `sympy`. [Matrices](https://docs.sympy.org/latest/modules/matrices/index.html) ):\n",
        "* Create one 3x3 symmtric matrics with variable entries\n",
        "* Create one 3x3 symmtric matrics with numerical entry (use small positive integer (not one, why?) if you do this by hand)\n",
        "##### 🎨 $\\color{darkorange}{\\textbf{Tip: Use the command`display()` to print the matrix in Sympy.}}$ \n",
        "* Perform the opertion that produce the none-symmtrix matric.\n",
        "* Observe in detail for patterns and relations between the rows and columns of the two original matrices and resultant matrix.\n",
        "##### 🎨 $\\color{darkorange}{\\textbf{Tip: Verify that your matrices are indeed symmetric before proceed.}}$ \n",
        "\n",
        "#### **2.** Type out your matrices and their multiplication with Latex in a textcell below, if you do this work by hand"
      ],
      "metadata": {
        "id": "TofQChGje8wm"
      }
    },
    {
      "cell_type": "markdown",
      "source": [
        "---\n",
        "### **$\\color{brown}{\\textbf{TODO 5: }}$ Observations and Discussions.**\n",
        "\n",
        "#### **1.** Write in a formal mathematical langague rules you discovered in addtion, standard multiplication and Hadamard Multiplication of matrices in linear algebra, that retained symmetry.  Create a name for each rule.\n",
        "\n",
        "#### **2.** write in a formal mathematical langague about the rule you discovered in addtion, standard multiplication and Hadamard Multiplication of matrices in linear algebra, that resulted a none-symmetric matrix and its properties.\n",
        "\n",
        "#### **Your experimental result turns out to be really important in multivariate data analysis, dimensionality reduction and source separation, because it's an important distinction between Eigen, the composition of one symmetric matrix versus two symmetric matrices.**"
      ],
      "metadata": {
        "id": "FGdZRUbznYPZ"
      }
    }
  ]
}