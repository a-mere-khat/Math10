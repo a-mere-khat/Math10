{
  "nbformat": 4,
  "nbformat_minor": 0,
  "metadata": {
    "colab": {
      "provenance": [],
      "include_colab_link": true
    },
    "kernelspec": {
      "name": "python3",
      "display_name": "Python 3"
    },
    "language_info": {
      "name": "python"
    }
  },
  "cells": [
    {
      "cell_type": "markdown",
      "metadata": {
        "id": "view-in-github",
        "colab_type": "text"
      },
      "source": [
        "<a href=\"https://colab.research.google.com/github/a-mere-khat/Math10/blob/master/Car%20WS_Lec_Matrix_2_2_A_zoo_of_matrices.ipynb\" target=\"_parent\"><img src=\"https://colab.research.google.com/assets/colab-badge.svg\" alt=\"Open In Colab\"/></a>"
      ]
    },
    {
      "cell_type": "markdown",
      "source": [
        "![purple-divider](https://user-images.githubusercontent.com/7065401/52071927-c1cd7100-2562-11e9-908a-dde91ba14e59.png)\n",
        "# **$$ ⛳ \\textbf{ A Zoo of Matrices }⛳ $$**\n"
      ],
      "metadata": {
        "id": "NZrzpAJ4vLKM"
      }
    },
    {
      "cell_type": "markdown",
      "source": [
        "![green-divider](https://user-images.githubusercontent.com/7065401/52071924-c003ad80-2562-11e9-8297-1c6595f8a7ff.png)\n",
        "## **🔖 $\\color{blue}{\\textbf{ Practice: }}$Common Types of Matrices in Python**"
      ],
      "metadata": {
        "id": "O5xUtb0yh6s7"
      }
    },
    {
      "cell_type": "markdown",
      "source": [
        "#### **Suqare and rectangular matrices**\n",
        "`numpy.random.randn(row, column)`"
      ],
      "metadata": {
        "id": "OKhOQT5SsB1q"
      }
    },
    {
      "cell_type": "markdown",
      "source": [
        "#### **Identity Matrix**\n",
        "`numpy.eye(rows)`\n",
        "* 🔺 Note that identify matrix is squared"
      ],
      "metadata": {
        "id": "1tTm6vikseio"
      }
    },
    {
      "cell_type": "markdown",
      "source": [
        "#### **Zero Matrix**\n",
        "`numpy.zeros((rows, columns))`\n",
        "* 🔺 Note the double (())"
      ],
      "metadata": {
        "id": "4rI9hlLHtAUW"
      }
    },
    {
      "cell_type": "markdown",
      "source": [
        "#### **Diagonal matrix**\n",
        "`numpy.diag(vector of diagonal elements)`\n",
        "* 🔺 Note the vector is in the list data structure with elements separated by commas and enclosed by \"[\" and  \"]\""
      ],
      "metadata": {
        "id": "9AeIWzDctBOj"
      }
    },
    {
      "cell_type": "markdown",
      "source": [
        "#### **Upper and Lower triangular Matrices**\n",
        "`numpy.triu(matrix)` and `numpy.tril(matrix)`\n",
        "* 🔺 Note that the matrix must be squared"
      ],
      "metadata": {
        "id": "yCIgUWCMtDcz"
      }
    },
    {
      "cell_type": "markdown",
      "source": [
        "#### **Concatenated Matrices**\n",
        "`numpy.concatenate((A, B), axis = 1)`\\\n",
        "🔺 Note:\n",
        "\n",
        "#### **1.** The matrix dimensions must match: \n",
        "* For **column** concatenation: the row numbers of A and B must be the same\n",
        "* For **row** concatenation: the column numbers of A and B must be the same\n",
        "\n",
        "#### **2.** The default concatenation is column-wise when `axis = 0`"
      ],
      "metadata": {
        "id": "I8uvCMEftEeO"
      }
    }
  ]
}