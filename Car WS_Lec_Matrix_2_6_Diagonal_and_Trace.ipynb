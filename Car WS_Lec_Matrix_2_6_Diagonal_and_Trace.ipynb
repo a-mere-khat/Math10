{
  "nbformat": 4,
  "nbformat_minor": 0,
  "metadata": {
    "colab": {
      "provenance": [],
      "include_colab_link": true
    },
    "kernelspec": {
      "name": "python3",
      "display_name": "Python 3"
    },
    "language_info": {
      "name": "python"
    }
  },
  "cells": [
    {
      "cell_type": "markdown",
      "metadata": {
        "id": "view-in-github",
        "colab_type": "text"
      },
      "source": [
        "<a href=\"https://colab.research.google.com/github/a-mere-khat/Math10/blob/master/Car%20WS_Lec_Matrix_2_6_Diagonal_and_Trace.ipynb\" target=\"_parent\"><img src=\"https://colab.research.google.com/assets/colab-badge.svg\" alt=\"Open In Colab\"/></a>"
      ]
    },
    {
      "cell_type": "markdown",
      "source": [
        "![purple-divider](https://user-images.githubusercontent.com/7065401/52071927-c1cd7100-2562-11e9-908a-dde91ba14e59.png)\n",
        "# **$$ ⛳ \\textbf{ Diagonal and Trace }⛳ $$**\n",
        "\n",
        "\n"
      ],
      "metadata": {
        "id": "RNFxe_SigFfh"
      }
    },
    {
      "cell_type": "markdown",
      "source": [
        "![green-divider](https://user-images.githubusercontent.com/7065401/52071924-c003ad80-2562-11e9-8297-1c6595f8a7ff.png)\n",
        "## **Objectives** \n",
        "\n",
        "<span style=\"font-family:Papyrus; color:red; font-size:4em;\">By the end of this lesson, you will:</span>\n",
        "\n",
        "\n",
        "#### - $\\color{teal}{\\text{Know how to extract the diagonal elements of a matrix into a vector}}$\n",
        "#### - $\\color{violet}{\\text{Learn how to compute the trace of a square matrix}}$\n"
      ],
      "metadata": {
        "id": "jSIXQHdAMrgn"
      }
    },
    {
      "cell_type": "markdown",
      "source": [
        "<details>\n",
        "  <summary><b>Explanation</b></summary>\n",
        "\n",
        "The diagonal elements of a matrix can be extracted and placed into a vector.\n",
        "\n",
        "This is used, for example, in statistics because the diagonal elements of a covariance matrix contain the variance of each variable.\n",
        "</details>"
      ],
      "metadata": {
        "id": "qsy4HuXSQB5N"
      }
    },
    {
      "cell_type": "markdown",
      "source": [
        "![green-divider](https://user-images.githubusercontent.com/7065401/52071924-c003ad80-2562-11e9-8297-1c6595f8a7ff.png)\n",
        "## **Diagonal**\n"
      ],
      "metadata": {
        "id": "nu8VhKVf5Cb-"
      }
    },
    {
      "cell_type": "markdown",
      "source": [
        "### **Formal definition of diagonal**"
      ],
      "metadata": {
        "id": "9RY_EFWwPAli"
      }
    },
    {
      "cell_type": "markdown",
      "source": [
        "$$\\Large\n",
        "\\mathbf{v}_i = \\color{blue}{\\mathbf{A}}_{i,i}, \\hspace{10mm} i = {1, 2, ..., min(m,n)}$$"
      ],
      "metadata": {
        "id": "5fJPjXObQ8Kn"
      }
    },
    {
      "cell_type": "markdown",
      "source": [
        "---\n",
        "### **`diag` function:**\n",
        "$$\\Large \\color{blue}{diag}(\\text{input = matrix}) = \\text{vector}$$\n",
        "$$\\Large \\color{blue}{diag}(\\text{input = vector}) = \\text{matrix}$$\n",
        "\n",
        "#### 🔺 Note This function is defined for both **square** matrices and **rectangular** matrices."
      ],
      "metadata": {
        "id": "VtriOi5DFFp9"
      }
    },
    {
      "cell_type": "markdown",
      "source": [
        "<details>\n",
        "  <summary><b>Show explanation</b></summary>\n",
        "\n",
        "As a function, dagnetization takes a matrix or a vector as input and returns a vector as output.\n",
        "\n",
        "Here you can see an example.\n",
        "\n",
        "This is the input matrix with the diagonal elements indicated in blue.\n",
        "\n",
        "And here is the resulting vector from applying the operation of extracting the diagonal elements of the matrix.\n",
        "\n",
        "The output is a vector that contains the diagonal elements.\n",
        "\n",
        "You can see that this function is defined both four square matrices and four rectangular matrices.\n",
        "\n",
        "So extracting the diagonal from this element, from this matrix gives you the vector one minus two.\n",
        "</details>"
      ],
      "metadata": {
        "id": "0QekJ-M_Dz2J"
      }
    },
    {
      "cell_type": "markdown",
      "source": [
        "##### **Example with input = square matrix**"
      ],
      "metadata": {
        "id": "XFejPNL9KHpH"
      }
    },
    {
      "cell_type": "markdown",
      "source": [
        "$$\\Large\n",
        "\\color{blue}{\\textbf{diag}} \\left (\n",
        "\\begin{bmatrix}\n",
        "\\color{teal}{-1} &-1&8  \\\\\n",
        " -1 & \\color{teal}{-2}&4 \\\\\n",
        "0 & 3&\\color{teal}{5}\n",
        "    \\end{bmatrix}\n",
        "\\right )\n",
        "\\, = \\,\n",
        "\\begin{bmatrix}\n",
        "\\color{teal}{-1} \\\\\n",
        " \\color{teal}{-2} \\\\\n",
        "\\color{teal}{5}\n",
        "\\end{bmatrix}\n",
        "$$"
      ],
      "metadata": {
        "id": "3Zttq6e5KE2U"
      }
    },
    {
      "cell_type": "markdown",
      "source": [
        "##### **Example with input = rectangular matrix**"
      ],
      "metadata": {
        "id": "QZXJNZO8KaSj"
      }
    },
    {
      "cell_type": "markdown",
      "source": [
        "$$\\Large\n",
        "\\begin{align}\n",
        "\\color{blue}{\\textbf{diag}} \\left (\n",
        "\\begin{bmatrix}\n",
        "\\color{teal}{-1} &-1  \\\\\n",
        " -1 & \\color{teal}{-2} \\\\\n",
        "0 & 3&\n",
        "    \\end{bmatrix}\n",
        "\\right )\n",
        "\\, &= \\,\n",
        "\\begin{bmatrix}\n",
        "\\color{teal}{-1} \\\\\n",
        " \\color{teal}{-2} \n",
        "\\end{bmatrix} \\\\ \\\\\n",
        "\\color{blue}{\\textbf{diag}} \\left (\n",
        "\\begin{bmatrix}\n",
        "\\color{teal}{-1} &-1&8  \\\\\n",
        " -1 & \\color{teal}{-2}&4 \n",
        "    \\end{bmatrix}\n",
        "\\right )\n",
        "\\, &= \\,\n",
        "\\begin{bmatrix}\n",
        "\\color{teal}{-1} \\\\\n",
        " \\color{teal}{-2} \\\\\n",
        "\\end{bmatrix}\n",
        "\\end{align}\n",
        " $$"
      ],
      "metadata": {
        "id": "ECzT-0-FG9a2"
      }
    },
    {
      "cell_type": "markdown",
      "source": [
        "#### 🔺 **Diagonal of a matrix and diagonalizing a matrix**\n",
        "* **Diagonalyzing** a matrix is a matrix is a matrix decomposition resulting from an **eigen decomposition**, which is a major topic that you will learn about in this course.\n",
        "\n",
        "* **Diagonal is to taking the diagonal elements** of the matrix and that really just means extracting the diagonal elements and putting them into a vector."
      ],
      "metadata": {
        "id": "ygoy4QG4TOUx"
      }
    },
    {
      "cell_type": "markdown",
      "source": [
        "![green-divider](https://user-images.githubusercontent.com/7065401/52071924-c003ad80-2562-11e9-8297-1c6595f8a7ff.png)\n",
        "## **Trace**\n"
      ],
      "metadata": {
        "id": "p4_aeN_TM66M"
      }
    },
    {
      "cell_type": "markdown",
      "source": [
        "---\n",
        "### **Formal definition of trace**"
      ],
      "metadata": {
        "id": "wgkALE_XRqqx"
      }
    },
    {
      "cell_type": "markdown",
      "source": [
        "$$\\Large\n",
        "tr(\\color{blue}{\\mathbf{A}} )= \\sum_{i=1}^{m}\\color{blue}{\\mathbf{A}}_{i,i}\n",
        "$$\n",
        "\n",
        "##### 🔺 Note: trace is only valid for square matrices."
      ],
      "metadata": {
        "id": "14AChMzHRqqy"
      }
    },
    {
      "cell_type": "markdown",
      "source": [
        "<details>\n",
        "  <summary><b>Show explanation</b></summary> \n",
        "\n",
        "The trace of a matrix is the sum of all of the diagonal elements.\n",
        "\n",
        "You extract the diagonal elements and then you sum them altogether.\n",
        "\n",
        "And that gives you the trace of this matrix, which is for you will see the trace operation at least twice in this course.\n",
        "\n",
        "Once when computing the **norm** and<details>\n",
        "</details>"
      ],
      "metadata": {
        "id": "aQK0VJfVNL2W"
      }
    },
    {
      "cell_type": "markdown",
      "source": [
        "---\n",
        "### **Example**"
      ],
      "metadata": {
        "id": "j2_Fv3C-UkEY"
      }
    },
    {
      "cell_type": "markdown",
      "source": [
        "$$\\Large\n",
        "\\color{blue}{\\textbf{trace}} \\left (\n",
        "\\begin{bmatrix}\n",
        "\\color{teal}{-1} &-1&8  \\\\\n",
        " -1 & \\color{teal}{-2}&4 \\\\\n",
        "0 & 3&\\color{teal}{5}\n",
        "    \\end{bmatrix}\n",
        "\\right )\n",
        "\\, = \\,\n",
        "(\\color{teal}{-1}) \\,+\\,\n",
        "( \\color{teal}{-2} )\\,+\\,\n",
        "\\color{teal}{5}\n",
        "\\, = \\, \\color{teal}{4}\n",
        "$$"
      ],
      "metadata": {
        "id": "V-a4iz5NUuCI"
      }
    },
    {
      "cell_type": "markdown",
      "source": [
        "![green-divider](https://user-images.githubusercontent.com/7065401/52071924-c003ad80-2562-11e9-8297-1c6595f8a7ff.png)\n",
        "## **Diagonal and Trace of square vs. rectangular matrix**"
      ],
      "metadata": {
        "id": "S2Kqy2xxWAKr"
      }
    },
    {
      "cell_type": "markdown",
      "source": [
        "<details>\n",
        "  <summary><b>Show explanation</b></summary>\n",
        "One property to keep in mind about the diagonal and the trace is that the trace is defined only for square matrices.\n",
        "\n",
        "So matrices that have the same number of rows as columns.\n",
        "\n",
        "The diagonal, on the other hand, exists for any sized matrix, as I've already shown.\n",
        "\n",
        "Now, this might seem like a strange rule, considering that the trace is the sum of the diagonal elements and the diagonal exists for rectangular matrices.\n",
        "\n",
        "The reason for this rule has to do with matrix multiplication.\n",
        "</details>"
      ],
      "metadata": {
        "id": "GOXMpG1HULSb"
      }
    },
    {
      "cell_type": "markdown",
      "source": [
        "$$\\require{cancel}$$ \n",
        "$$\\Large\n",
        "\\begin{bmatrix}\n",
        "\\color{teal}{1} &-1&8  \\\\\n",
        " -1 & \\color{teal}{-2}&4 \\\\\n",
        "0 & 3&\\color{teal}{5}\n",
        "    \\end{bmatrix}\n",
        "\\, \\hspace{20mm} \\,\n",
        "\\begin{bmatrix}\n",
        "\\color{teal}{1} &-1  \\\\\n",
        " -1 & \\color{teal}{-2} \\\\\n",
        "0 & 3&\n",
        "\\end{bmatrix}\n",
        "$$\n",
        "\n",
        "$$\\Large\\color{orange}{\\text{Trace}} \\hspace{40mm} \\bcancel{\\color{red}{\\text{Trace}}}\n",
        "$$\n",
        "$$\\Large\\color{orange}{\\text{Diagonal}} \\hspace{35mm} \\color{orange}{\\text{Diagonal}}\n",
        "$$"
      ],
      "metadata": {
        "id": "7jPZIzowXLEP"
      }
    },
    {
      "cell_type": "markdown",
      "source": [
        "![green-divider](https://user-images.githubusercontent.com/7065401/52071924-c003ad80-2562-11e9-8297-1c6595f8a7ff.png)\n",
        "## **🔖 $\\color{blue}{\\textbf{ Practice: }}$ Diagonal and trace with Python**"
      ],
      "metadata": {
        "id": "pXCgMN9igevw"
      }
    },
    {
      "cell_type": "markdown",
      "source": [
        "### **Create a random integer matrix**"
      ],
      "metadata": {
        "id": "fLzI77b-hk99"
      }
    },
    {
      "cell_type": "markdown",
      "source": [
        "### **Extract diagonal element of the matrix**\n",
        "`numpy.diag(Matrix)`\n",
        "\n",
        "🔺 Note: the output of `diag(Matrix)` is a **vector**"
      ],
      "metadata": {
        "id": "SXZDTgnMleB8"
      }
    },
    {
      "cell_type": "markdown",
      "source": [
        "#### **Creating a diagonal matrix with a vector**\n"
      ],
      "metadata": {
        "id": "ybzgVJUVl-lE"
      }
    },
    {
      "cell_type": "markdown",
      "source": [
        "#### **Computing the trace of a symmetric matrix**\n",
        "`numpy.trace(matrix)`\n",
        "\n",
        "`sum(numpy.diag(Matrix))`"
      ],
      "metadata": {
        "id": "j2gpD3ldnCWC"
      }
    },
    {
      "cell_type": "markdown",
      "source": [
        "#### 🔺 Note:  `numpy.trace(matrix)` and `sum(numpy.diag(Matrix))` give us the trace for non-square matrix.  We have to use it proporly to generate the meaningful output "
      ],
      "metadata": {
        "id": "8XV0LusMcIEt"
      }
    }
  ]
}