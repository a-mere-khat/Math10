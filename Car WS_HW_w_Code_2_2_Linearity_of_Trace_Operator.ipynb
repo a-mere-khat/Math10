{
  "nbformat": 4,
  "nbformat_minor": 0,
  "metadata": {
    "colab": {
      "provenance": [],
      "include_colab_link": true
    },
    "kernelspec": {
      "name": "python3",
      "display_name": "Python 3"
    }
  },
  "cells": [
    {
      "cell_type": "markdown",
      "metadata": {
        "id": "view-in-github",
        "colab_type": "text"
      },
      "source": [
        "<a href=\"https://colab.research.google.com/github/a-mere-khat/Math10/blob/master/Car%20WS_HW_w_Code_2_2_Linearity_of_Trace_Operator.ipynb\" target=\"_parent\"><img src=\"https://colab.research.google.com/assets/colab-badge.svg\" alt=\"Open In Colab\"/></a>"
      ]
    },
    {
      "cell_type": "markdown",
      "source": [
        "![purple-divider](https://user-images.githubusercontent.com/7065401/52071927-c1cd7100-2562-11e9-908a-dde91ba14e59.png)\n",
        "\n",
        "# **$$ ⛳ \\textbf{Linearity of Trace Operators} ⛳ $$**\n",
        "## $$\\text{ Tr} (\\mathbf{ A + B}) \\stackrel{?}{=}   \\text{ Tr} (\\mathbf{A}) + \\text{ Tr} (\\mathbf{ B}) $$\n",
        "# **$$ ⛳ \\textbf{Closeness Under Addition and Scalar Multiplication }⛳ $$**\n",
        "\n",
        "##**$$\\text{ Tr}(\\text{s} \\cdot \\mathbf{A})\\stackrel{?}{=} \\text{s} \\cdot \\text{ Tr}(\\mathbf{A})$$**"
      ],
      "metadata": {
        "id": "ha6K8qTjtRxn"
      }
    },
    {
      "cell_type": "markdown",
      "source": [
        "![green-divider](https://user-images.githubusercontent.com/7065401/52071924-c003ad80-2562-11e9-8297-1c6595f8a7ff.png)\n",
        "## **Objective:**"
      ],
      "metadata": {
        "id": "XVcXL1A9jBur"
      }
    },
    {
      "cell_type": "markdown",
      "source": [
        "#### The goal of this code challenge is to explore the trace, and in particular whether they trace is a linear operator and if it is closed under additions and scalar multiplication.\n",
        "\n",
        "And so in practice, what that means is you want to explore two things.\n",
        "In mathematics notation, a scalar s times the quantity of sum of A and B or A is equal to s timea A plus s times B, (Distribute the scalar s to matrices A and B).\n",
        "\n",
        "#### ⛽ There are many resources for writing text in markdown and mathematics typesets in latex.  Here is one for matrix\n",
        "[How to write matrices in Latex ?](https://www.math-linux.com/latex-26/faq/latex-faq/article/how-to-write-matrices-in-latex-matrix-pmatrix-bmatrix-vmatrix-vmatrix)\n",
        "\n",
        "[Markdown Cheatsheet.]( https://github.com/adam-p/markdown-here/wiki/Markdown-Cheatsheet)\n",
        "\n",
        "🚥 But keep in mind that these numerical demonstrations in a couple of examples are not formal mathematical proofs, and these are not substitutes for formal mathematical proofs. These are just really great ways to help you internalize the concepts."
      ],
      "metadata": {
        "id": "smTDm7aQ8Fwh"
      }
    },
    {
      "cell_type": "markdown",
      "source": [
        "![green-divider](https://user-images.githubusercontent.com/7065401/52071924-c003ad80-2562-11e9-8297-1c6595f8a7ff.png)\n",
        "## **🔖 TODOs**\n"
      ],
      "metadata": {
        "id": "IKMzqea07ufX"
      }
    },
    {
      "cell_type": "markdown",
      "source": [
        "---\n",
        "### **$\\color{brown}{\\textbf{TODO 1: }}$ State Your hypothesis**"
      ],
      "metadata": {
        "id": "3224p_wlYZtj"
      }
    },
    {
      "cell_type": "markdown",
      "source": [
        "---\n",
        "### **$\\color{brown}{\\textbf{TODO 2: }}$ Recommendated Steps for soft code the experiment** \n",
        "\n",
        "##### ✅ **$\\color{darkorange}{\\textbf{There are many different versions of solutions}}$**"
      ],
      "metadata": {
        "id": "fVPtMgktNzsd"
      }
    },
    {
      "cell_type": "markdown",
      "source": [
        "#### 🎨 $\\color{darkorange}{\\text{ TIP: Test your for-loop with a small sized matices with integer elements.}}$ "
      ],
      "metadata": {
        "id": "e6ccedef2Jqw"
      }
    },
    {
      "cell_type": "markdown",
      "source": [
        "\n",
        "#### **1.** Define two variables for row and column numbers.\n",
        "#### **2.** Generate **two random number matrices** of dimentions specified by the variable in **1.**\n",
        "#### **3.** Generate one random scalar\n",
        "#### **4.** Compute or print the trace of each matrix and sum of the two matrices.\n",
        "#### **5.** Compute or print the trace of product of the random scalar and a matric and the product of the scalar and trace of the same matric.\n"
      ],
      "metadata": {
        "id": "le-DzREwuscw"
      }
    },
    {
      "cell_type": "code",
      "source": [
        "#Your code goes here"
      ],
      "metadata": {
        "id": "Xfcpi3vdXRbt"
      },
      "execution_count": null,
      "outputs": []
    },
    {
      "cell_type": "markdown",
      "source": [
        "---\n",
        "### **$\\color{brown}{\\textbf{TODO 3: }}$ Running experiments using your code**\n",
        "\n",
        "#### **1.** Testing out hypotheses with differnt dimentions of matrices\n",
        "\n",
        "#### **2.** Document the data and results in a markdown cells\n",
        "\n",
        "\n",
        "##### ✅ **$\\color{darkorange}{\\textbf{There are many different versions of solutions}}$**"
      ],
      "metadata": {
        "id": "aF2HoZk7Z1Av"
      }
    },
    {
      "cell_type": "markdown",
      "source": [
        "---\n",
        "### **$\\color{brown}{\\textbf{TODO 4: }}$ Make your conclusion based on your experiment** \n",
        "\n"
      ],
      "metadata": {
        "id": "FGdZRUbznYPZ"
      }
    }
  ]
}