{
  "nbformat": 4,
  "nbformat_minor": 0,
  "metadata": {
    "colab": {
      "provenance": [],
      "include_colab_link": true
    },
    "kernelspec": {
      "name": "python3",
      "display_name": "Python 3"
    }
  },
  "cells": [
    {
      "cell_type": "markdown",
      "metadata": {
        "id": "view-in-github",
        "colab_type": "text"
      },
      "source": [
        "<a href=\"https://colab.research.google.com/github/a-mere-khat/Math10/blob/master/Car%20HW_w_Code_1_14_Chauchy_Shwartz_Inequality.ipynb\" target=\"_parent\"><img src=\"https://colab.research.google.com/assets/colab-badge.svg\" alt=\"Open In Colab\"/></a>"
      ]
    },
    {
      "cell_type": "markdown",
      "source": [
        "![purple-divider](https://user-images.githubusercontent.com/7065401/52071927-c1cd7100-2562-11e9-908a-dde91ba14e59.png)\n",
        "\n",
        "# **$$ ⛳ \\textbf{   Chauchy Shwartz Inequality  }⛳ $$**\n",
        "\n",
        "The **Cauchy–Schwarz inequality** (also called **Cauchy–Bunyakovsky–Schwarz inequality**) is considered one of the most important and widely used inequalities in mathematics."
      ],
      "metadata": {
        "id": "ha6K8qTjtRxn"
      }
    },
    {
      "cell_type": "markdown",
      "source": [
        "![green-divider](https://user-images.githubusercontent.com/7065401/52071924-c003ad80-2562-11e9-8297-1c6595f8a7ff.png)\n",
        "## 🤔 **Objective:**"
      ],
      "metadata": {
        "id": "XVcXL1A9jBur"
      }
    },
    {
      "cell_type": "markdown",
      "source": [
        "#### Upon completing this challenge, you will\n",
        "* the fomrula and proof for the Cauchy Shwartz Inequality.\n",
        "* Demonstrate the (in)equality in code!\n",
        "\n",
        "#### ⛽ There are many resources for writing text in markdown and mathematics typesets in latex.  Here is one for matrix\n",
        "[How to write matrices in Latex ?](https://www.math-linux.com/latex-26/faq/latex-faq/article/how-to-write-matrices-in-latex-matrix-pmatrix-bmatrix-vmatrix-vmatrix)\n",
        "\n",
        "[Markdown Cheatsheet.]( https://github.com/adam-p/markdown-here/wiki/Markdown-Cheatsheet)\n",
        "\n",
        "🚥 But keep in mind that these numerical demonstrations in a couple of examples are not proofs. These are not formal mathematical proofs, and these are not substitutes for formal mathematical proofs. These are just really great ways to help you internalize the concepts."
      ],
      "metadata": {
        "id": "bWZd8rnTMSyM"
      }
    },
    {
      "cell_type": "markdown",
      "source": [
        "![green-divider](https://user-images.githubusercontent.com/7065401/52071924-c003ad80-2562-11e9-8297-1c6595f8a7ff.png)\n",
        "##🔖  **TODOs** "
      ],
      "metadata": {
        "id": "4cvL847leXBf"
      }
    },
    {
      "cell_type": "markdown",
      "source": [
        "---\n",
        "### **$\\color{brown}{\\textbf{TODO 1: }}$ State the Inequality**\n"
      ],
      "metadata": {
        "id": "EztiKnLgi-wE"
      }
    },
    {
      "cell_type": "markdown",
      "source": [
        "---\n",
        "### **$\\color{brown}{\\textbf{TODO 2: }}$ Theoretical Proof** \n",
        "\n",
        "#### There's quite a few proofs for this inequality.  In principle, you can come up with any proof you like the proof that comes from the definition of the DOT product that we recently learebd on the geometric interpretation of the DOT product in $R^2$ and $R^3$.\n",
        "\n",
        "#### If you have a different proof, then it's also totally fine.\n",
        "\n",
        "\n"
      ],
      "metadata": {
        "id": "fVPtMgktNzsd"
      }
    },
    {
      "cell_type": "markdown",
      "source": [
        "---\n",
        "### **$\\color{brown}{\\textbf{TODO 3: }}$ Code for Experiment of Conditions of Equality vs. Inequality** \n",
        "\n",
        "Determine the conditions to use equality or inequality signs in Chauchy Shwartz Inequality with support to your statements in Mathematical logics.\n",
        "\n",
        "\n",
        "#### **Step 1:** Create three vectors with dimention > $R^5$: two are independent of each other and the third is linear dependent on one of the previous two vectors.  (Think about what type of vectors are independent and what makes it dependent.)\n",
        "\n",
        "#### 🎨 $\\color{darkorange}{\\text{ TIP 1: Two vectors with random numbers from Guassian distributions are astoshingly unlikely to be dependent on each other.}}$\n",
        "#### 🎨 $\\color{darkorange}{\\text{ TIP: 2. Two vectors are linear dependent when their ratio is a none-zero number.}}$\n",
        "\n",
        "#### **Step 2:** Compute the dot product between the two independent and two dependent vectors\n",
        "\n",
        "#### **Step 3:** Compute the normal of all vectors and the products and their\n",
        "\n",
        "#### **Step 4:** print out the results above or differences from step 2 and 3 for the left and right sides of Cauchy Schwards Inequality.\n"
      ],
      "metadata": {
        "id": "yXXohzjyaUOu"
      }
    },
    {
      "cell_type": "markdown",
      "source": [
        "---\n",
        "### **$\\color{brown}{\\textbf{TODO 4: }}$ Experiment with your code and documents the results for equality and inequality** "
      ],
      "metadata": {
        "id": "gpuL889tzLI6"
      }
    },
    {
      "cell_type": "markdown",
      "source": [
        "#### Running the code, we see that \n",
        "* the inequality sign applies to the vectors $\\mathbf{a}$ and $\\mathbf{b}$ where $\\mathbf{a}$ and $\\mathbf{b} $ are independent of each other.\n",
        "* The equality applies to the vectors of $\\mathbf{a}$ and $\\mathbf{c}$, where $\\mathbf{c}$ is linear dependent of $\\mathbf{a}$, that is, $\\mathbf{a} = \\text{constant} \\cdot \\mathbf{a}$"
      ],
      "metadata": {
        "id": "w9greH9MzohG"
      }
    },
    {
      "cell_type": "markdown",
      "source": [
        "---\n",
        "### **$\\color{brown}{\\textbf{TODO 5: }}$ Write a conclusion of the conditions for equality and inequality in terms of dependence and independence of the two vectors in the Cauchy Schartz Inequality** "
      ],
      "metadata": {
        "id": "WrhzCzF5zXbg"
      }
    }
  ]
}