{
  "nbformat": 4,
  "nbformat_minor": 0,
  "metadata": {
    "colab": {
      "provenance": [],
      "include_colab_link": true
    },
    "kernelspec": {
      "name": "python3",
      "display_name": "Python 3"
    }
  },
  "cells": [
    {
      "cell_type": "markdown",
      "metadata": {
        "id": "view-in-github",
        "colab_type": "text"
      },
      "source": [
        "<a href=\"https://colab.research.google.com/github/a-mere-khat/Math10/blob/master/Car%20WS_HW_w_Code_2_1_Linearity_of_Scalar_Multiplication_to_Matrices.ipynb\" target=\"_parent\"><img src=\"https://colab.research.google.com/assets/colab-badge.svg\" alt=\"Open In Colab\"/></a>"
      ]
    },
    {
      "cell_type": "markdown",
      "source": [
        "![purple-divider](https://user-images.githubusercontent.com/7065401/52071927-c1cd7100-2562-11e9-908a-dde91ba14e59.png)\n",
        "\n",
        "# **$$ ⛳ \\textbf{   Is Matrix and Scalar Multiplication a Linear Operation  }⛳ $$**\n",
        "## **$$  \\text{ s} \\cdot (\\mathbf{ A + B}) \\stackrel{?}{=}   \\text{ s}\\cdot \\mathbf{A} + \\text{ s} \\cdot \\mathbf{ B}$$**"
      ],
      "metadata": {
        "id": "ha6K8qTjtRxn"
      }
    },
    {
      "cell_type": "markdown",
      "source": [
        "![green-divider](https://user-images.githubusercontent.com/7065401/52071924-c003ad80-2562-11e9-8297-1c6595f8a7ff.png)\n",
        "## **Objective:**"
      ],
      "metadata": {
        "id": "8553zOTLhux3"
      }
    },
    {
      "cell_type": "markdown",
      "source": [
        "#### The goal of this code challenge is to determine whether scalar matrix multiplication is linear or whether a scalar matrix multiplication obeys the distributive property.\n",
        "\n",
        "In mathematics notation, a scalar s times the quantity of sum of A and B or A is equal to s timea A plus s times B, (Distribute the scalar s to matrices A and B).\n",
        "\n",
        "#### ⛽ There are many resources for writing text in markdown and mathematics typesets in latex.  Here is one for matrix\n",
        "[How to write matrices in Latex ?](https://www.math-linux.com/latex-26/faq/latex-faq/article/how-to-write-matrices-in-latex-matrix-pmatrix-bmatrix-vmatrix-vmatrix)\n",
        "\n",
        "[Markdown Cheatsheet.]( https://github.com/adam-p/markdown-here/wiki/Markdown-Cheatsheet)\n",
        "\n",
        "🚥 But keep in mind that these numerical demonstrations in a couple of examples are not formal mathematical proofs, and these are not substitutes for formal mathematical proofs. These are just really great ways to help you internalize the concepts."
      ],
      "metadata": {
        "id": "hO73DgCphux3"
      }
    },
    {
      "cell_type": "markdown",
      "source": [
        "![green-divider](https://user-images.githubusercontent.com/7065401/52071924-c003ad80-2562-11e9-8297-1c6595f8a7ff.png)\n",
        "## **🔖 TODOs**\n"
      ],
      "metadata": {
        "id": "TgMsqRxqhux3"
      }
    },
    {
      "cell_type": "markdown",
      "source": [
        "---\n",
        "### **$\\color{brown}{\\textbf{TODO 1: }}$ State Your hypothesis**"
      ],
      "metadata": {
        "id": "ksFP7eaEhux3"
      }
    },
    {
      "cell_type": "markdown",
      "source": [
        "---\n",
        "### **$\\color{brown}{\\textbf{TODO 2: }}$ Recommendated Steps for code the experiment** \n",
        "\n",
        "##### ✅ **$\\color{darkorange}{\\textbf{There are many different versions of solutions}}$**"
      ],
      "metadata": {
        "id": "j9lARK8Ghux4"
      }
    },
    {
      "cell_type": "markdown",
      "source": [
        "\n",
        "#### **1.** Soft code the size of a matrix\n",
        "\n",
        "#### **2.** Generate **two random matrices of the same size**\n",
        "#### **3.** Define a scalar\n",
        "#### **4.** Compute $  \\text{ s} \\cdot (\\mathbf{ A + B})$ and $   \\text{ s}\\cdot \\mathbf{A} + \\text{ s} \\cdot \\mathbf{ B}$, respectively.\n",
        "#### **5.** Compute and print the two quantities from step 4."
      ],
      "metadata": {
        "id": "-i0u0xmOhux4"
      }
    },
    {
      "cell_type": "markdown",
      "source": [
        "---\n",
        "### **$\\color{brown}{\\textbf{TODO 3: }}$ Running experiments using your code**\n",
        "\n",
        "#### **1.** Testing out hypotheses with differnt dimentions of matrices\n",
        "\n",
        "#### **2.** Document the data and results in a markdown cells\n",
        "\n",
        "\n",
        "##### ✅ **$\\color{darkorange}{\\textbf{There are many different versions of solutions}}$**"
      ],
      "metadata": {
        "id": "D95VpTjVhCSo"
      }
    },
    {
      "cell_type": "markdown",
      "source": [
        "---\n",
        "### **$\\color{brown}{\\textbf{TODO 4: }}$ Make your conclusion based on your experiment** \n",
        "\n"
      ],
      "metadata": {
        "id": "VkODzCz0hux4"
      }
    }
  ]
}